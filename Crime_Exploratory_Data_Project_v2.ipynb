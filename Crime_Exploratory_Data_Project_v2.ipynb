{
 "cells": [
  {
   "cell_type": "code",
   "execution_count": 1,
   "id": "ca39dc0c",
   "metadata": {},
   "outputs": [],
   "source": [
    "## Exploratory Data Project"
   ]
  },
  {
   "cell_type": "markdown",
   "id": "a36f538e",
   "metadata": {},
   "source": [
    "## Import All Libraries"
   ]
  },
  {
   "cell_type": "markdown",
   "id": "70d81801",
   "metadata": {},
   "source": [
    "## Data Visualization\n",
    "Visualizing the data helps us uncover trends, patterns, and outliers. Here, we use Matplotlib and Seaborn for plotting."
   ]
  },
  {
   "cell_type": "code",
   "execution_count": 75,
   "id": "369ae54d",
   "metadata": {},
   "outputs": [],
   "source": [
    "import numpy as np\n",
    "import pandas as pd\n",
    "import matplotlib.pyplot as plt\n",
    "import seaborn as sns\n",
    "from encodings.aliases import aliases\n",
    "\n",
    "%matplotlib inline"
   ]
  },
  {
   "cell_type": "markdown",
   "id": "f6f02fef",
   "metadata": {},
   "source": [
    "## Reac csv files"
   ]
  },
  {
   "cell_type": "code",
   "execution_count": 4,
   "id": "bd4054a3",
   "metadata": {},
   "outputs": [],
   "source": [
    "## regular csv read wont work with this data set\n",
    "\n",
    "alias_values = set(aliases.values())\n"
   ]
  },
  {
   "cell_type": "markdown",
   "id": "bdc33787",
   "metadata": {},
   "source": [
    "## Data Loading\n",
    "In this section, we load the crime dataset using Pandas and display the first few rows to get an overview."
   ]
  },
  {
   "cell_type": "code",
   "execution_count": 7,
   "id": "59e6d116",
   "metadata": {},
   "outputs": [
    {
     "name": "stdout",
     "output_type": "stream",
     "text": [
      "succesful iso8859_13\n",
      "succesful cp273\n",
      "succesful iso8859_7\n",
      "succesful mbcs\n",
      "succesful iso8859_8\n",
      "succesful mac_turkish\n",
      "succesful cp862\n",
      "succesful mac_iceland\n",
      "succesful cp855\n",
      "succesful cp857\n",
      "succesful cp869\n",
      "succesful iso8859_15\n",
      "succesful cp1026\n",
      "succesful iso8859_2\n",
      "succesful cp861\n",
      "succesful cp437\n",
      "succesful kz1048\n",
      "succesful cp932\n",
      "succesful iso8859_3\n",
      "succesful cp775\n",
      "succesful iso8859_14\n",
      "succesful cp037\n",
      "succesful iso8859_5\n",
      "succesful utf_16_be\n",
      "succesful cp1125\n",
      "succesful cp850\n",
      "succesful cp1251\n",
      "succesful cp500\n",
      "succesful iso8859_4\n",
      "succesful mac_greek\n",
      "succesful cp1250\n",
      "succesful gbk\n",
      "succesful cp1258\n",
      "succesful iso8859_9\n",
      "succesful mac_latin2\n",
      "succesful cp949\n",
      "succesful cp1256\n",
      "succesful mac_roman\n",
      "succesful iso8859_10\n",
      "succesful koi8_r\n",
      "succesful mac_cyrillic\n",
      "succesful cp864\n",
      "succesful cp1254\n",
      "succesful cp860\n",
      "succesful cp1255\n",
      "succesful cp865\n",
      "succesful cp863\n",
      "succesful cp866\n",
      "succesful cp852\n",
      "succesful gb18030\n",
      "succesful iso8859_6\n",
      "succesful cp1257\n",
      "succesful big5hkscs\n",
      "succesful iso8859_11\n",
      "succesful utf_16_le\n",
      "succesful latin_1\n",
      "succesful cp1253\n",
      "succesful hp_roman8\n",
      "succesful ptcp154\n",
      "succesful iso8859_16\n",
      "succesful cp1140\n",
      "succesful cp858\n",
      "succesful cp1252\n"
     ]
    }
   ],
   "source": [
    "for encoding in set (aliases.values()):\n",
    "    try:\n",
    "        df = pd.read_csv('crime.csv',nrows=10,encoding=encoding) ## Read in 10 lines\n",
    "        print('succesful',encoding)\n",
    "    except:\n",
    "        pass"
   ]
  },
  {
   "cell_type": "markdown",
   "id": "dcb804c2",
   "metadata": {},
   "source": [
    "## Data Loading\n",
    "In this section, we load the crime dataset using Pandas and display the first few rows to get an overview."
   ]
  },
  {
   "cell_type": "code",
   "execution_count": 8,
   "id": "99ef368d",
   "metadata": {},
   "outputs": [],
   "source": [
    "## read CSv file using the encoding as an index\n",
    "crime = pd.read_csv('crime.csv',encoding = 'iso8859_7')"
   ]
  },
  {
   "cell_type": "code",
   "execution_count": 9,
   "id": "1a8810b3",
   "metadata": {},
   "outputs": [
    {
     "data": {
      "text/html": [
       "<div>\n",
       "<style scoped>\n",
       "    .dataframe tbody tr th:only-of-type {\n",
       "        vertical-align: middle;\n",
       "    }\n",
       "\n",
       "    .dataframe tbody tr th {\n",
       "        vertical-align: top;\n",
       "    }\n",
       "\n",
       "    .dataframe thead th {\n",
       "        text-align: right;\n",
       "    }\n",
       "</style>\n",
       "<table border=\"1\" class=\"dataframe\">\n",
       "  <thead>\n",
       "    <tr style=\"text-align: right;\">\n",
       "      <th></th>\n",
       "      <th>INCIDENT_NUMBER</th>\n",
       "      <th>OFFENSE_CODE</th>\n",
       "      <th>OFFENSE_CODE_GROUP</th>\n",
       "      <th>OFFENSE_DESCRIPTION</th>\n",
       "      <th>DISTRICT</th>\n",
       "      <th>REPORTING_AREA</th>\n",
       "      <th>SHOOTING</th>\n",
       "      <th>OCCURRED_ON_DATE</th>\n",
       "      <th>YEAR</th>\n",
       "      <th>MONTH</th>\n",
       "      <th>DAY_OF_WEEK</th>\n",
       "      <th>HOUR</th>\n",
       "      <th>UCR_PART</th>\n",
       "      <th>STREET</th>\n",
       "      <th>Lat</th>\n",
       "      <th>Long</th>\n",
       "      <th>Location</th>\n",
       "    </tr>\n",
       "  </thead>\n",
       "  <tbody>\n",
       "    <tr>\n",
       "      <th>0</th>\n",
       "      <td>I182070945</td>\n",
       "      <td>619</td>\n",
       "      <td>Larceny</td>\n",
       "      <td>LARCENY ALL OTHERS</td>\n",
       "      <td>D14</td>\n",
       "      <td>808</td>\n",
       "      <td>NaN</td>\n",
       "      <td>2018-09-02 13:00:00</td>\n",
       "      <td>2018</td>\n",
       "      <td>9</td>\n",
       "      <td>Sunday</td>\n",
       "      <td>13</td>\n",
       "      <td>Part One</td>\n",
       "      <td>LINCOLN ST</td>\n",
       "      <td>42.357791</td>\n",
       "      <td>-71.139371</td>\n",
       "      <td>(42.35779134, -71.13937053)</td>\n",
       "    </tr>\n",
       "    <tr>\n",
       "      <th>1</th>\n",
       "      <td>I182070943</td>\n",
       "      <td>1402</td>\n",
       "      <td>Vandalism</td>\n",
       "      <td>VANDALISM</td>\n",
       "      <td>C11</td>\n",
       "      <td>347</td>\n",
       "      <td>NaN</td>\n",
       "      <td>2018-08-21 00:00:00</td>\n",
       "      <td>2018</td>\n",
       "      <td>8</td>\n",
       "      <td>Tuesday</td>\n",
       "      <td>0</td>\n",
       "      <td>Part Two</td>\n",
       "      <td>HECLA ST</td>\n",
       "      <td>42.306821</td>\n",
       "      <td>-71.060300</td>\n",
       "      <td>(42.30682138, -71.06030035)</td>\n",
       "    </tr>\n",
       "    <tr>\n",
       "      <th>2</th>\n",
       "      <td>I182070941</td>\n",
       "      <td>3410</td>\n",
       "      <td>Towed</td>\n",
       "      <td>TOWED MOTOR VEHICLE</td>\n",
       "      <td>D4</td>\n",
       "      <td>151</td>\n",
       "      <td>NaN</td>\n",
       "      <td>2018-09-03 19:27:00</td>\n",
       "      <td>2018</td>\n",
       "      <td>9</td>\n",
       "      <td>Monday</td>\n",
       "      <td>19</td>\n",
       "      <td>Part Three</td>\n",
       "      <td>CAZENOVE ST</td>\n",
       "      <td>42.346589</td>\n",
       "      <td>-71.072429</td>\n",
       "      <td>(42.34658879, -71.07242943)</td>\n",
       "    </tr>\n",
       "    <tr>\n",
       "      <th>3</th>\n",
       "      <td>I182070940</td>\n",
       "      <td>3114</td>\n",
       "      <td>Investigate Property</td>\n",
       "      <td>INVESTIGATE PROPERTY</td>\n",
       "      <td>D4</td>\n",
       "      <td>272</td>\n",
       "      <td>NaN</td>\n",
       "      <td>2018-09-03 21:16:00</td>\n",
       "      <td>2018</td>\n",
       "      <td>9</td>\n",
       "      <td>Monday</td>\n",
       "      <td>21</td>\n",
       "      <td>Part Three</td>\n",
       "      <td>NEWCOMB ST</td>\n",
       "      <td>42.334182</td>\n",
       "      <td>-71.078664</td>\n",
       "      <td>(42.33418175, -71.07866441)</td>\n",
       "    </tr>\n",
       "    <tr>\n",
       "      <th>4</th>\n",
       "      <td>I182070938</td>\n",
       "      <td>3114</td>\n",
       "      <td>Investigate Property</td>\n",
       "      <td>INVESTIGATE PROPERTY</td>\n",
       "      <td>B3</td>\n",
       "      <td>421</td>\n",
       "      <td>NaN</td>\n",
       "      <td>2018-09-03 21:05:00</td>\n",
       "      <td>2018</td>\n",
       "      <td>9</td>\n",
       "      <td>Monday</td>\n",
       "      <td>21</td>\n",
       "      <td>Part Three</td>\n",
       "      <td>DELHI ST</td>\n",
       "      <td>42.275365</td>\n",
       "      <td>-71.090361</td>\n",
       "      <td>(42.27536542, -71.09036101)</td>\n",
       "    </tr>\n",
       "  </tbody>\n",
       "</table>\n",
       "</div>"
      ],
      "text/plain": [
       "  INCIDENT_NUMBER  OFFENSE_CODE    OFFENSE_CODE_GROUP   OFFENSE_DESCRIPTION  \\\n",
       "0      I182070945           619               Larceny    LARCENY ALL OTHERS   \n",
       "1      I182070943          1402             Vandalism             VANDALISM   \n",
       "2      I182070941          3410                 Towed   TOWED MOTOR VEHICLE   \n",
       "3      I182070940          3114  Investigate Property  INVESTIGATE PROPERTY   \n",
       "4      I182070938          3114  Investigate Property  INVESTIGATE PROPERTY   \n",
       "\n",
       "  DISTRICT REPORTING_AREA SHOOTING     OCCURRED_ON_DATE  YEAR  MONTH  \\\n",
       "0      D14            808      NaN  2018-09-02 13:00:00  2018      9   \n",
       "1      C11            347      NaN  2018-08-21 00:00:00  2018      8   \n",
       "2       D4            151      NaN  2018-09-03 19:27:00  2018      9   \n",
       "3       D4            272      NaN  2018-09-03 21:16:00  2018      9   \n",
       "4       B3            421      NaN  2018-09-03 21:05:00  2018      9   \n",
       "\n",
       "  DAY_OF_WEEK  HOUR    UCR_PART       STREET        Lat       Long  \\\n",
       "0      Sunday    13    Part One   LINCOLN ST  42.357791 -71.139371   \n",
       "1     Tuesday     0    Part Two     HECLA ST  42.306821 -71.060300   \n",
       "2      Monday    19  Part Three  CAZENOVE ST  42.346589 -71.072429   \n",
       "3      Monday    21  Part Three   NEWCOMB ST  42.334182 -71.078664   \n",
       "4      Monday    21  Part Three     DELHI ST  42.275365 -71.090361   \n",
       "\n",
       "                      Location  \n",
       "0  (42.35779134, -71.13937053)  \n",
       "1  (42.30682138, -71.06030035)  \n",
       "2  (42.34658879, -71.07242943)  \n",
       "3  (42.33418175, -71.07866441)  \n",
       "4  (42.27536542, -71.09036101)  "
      ]
     },
     "execution_count": 9,
     "metadata": {},
     "output_type": "execute_result"
    }
   ],
   "source": [
    "## df head\n",
    "crime.head()"
   ]
  },
  {
   "cell_type": "code",
   "execution_count": 12,
   "id": "bd56222f",
   "metadata": {},
   "outputs": [
    {
     "data": {
      "text/plain": [
       "(319073, 17)"
      ]
     },
     "execution_count": 12,
     "metadata": {},
     "output_type": "execute_result"
    }
   ],
   "source": [
    "## 17 columns, over 310k rows\n",
    "crime.shape"
   ]
  },
  {
   "cell_type": "code",
   "execution_count": 14,
   "id": "e659c345",
   "metadata": {},
   "outputs": [
    {
     "data": {
      "text/plain": [
       "23"
      ]
     },
     "execution_count": 14,
     "metadata": {},
     "output_type": "execute_result"
    }
   ],
   "source": [
    "## 23 duplicate values\n",
    "crime.duplicated().sum()"
   ]
  },
  {
   "cell_type": "code",
   "execution_count": 16,
   "id": "bb850c3d",
   "metadata": {},
   "outputs": [],
   "source": [
    "## dropping duplicates and setting inplace as True to keep change\n",
    "crime.drop_duplicates(inplace=True)"
   ]
  },
  {
   "cell_type": "code",
   "execution_count": 17,
   "id": "0eb176cf",
   "metadata": {},
   "outputs": [
    {
     "data": {
      "text/plain": [
       "(319050, 17)"
      ]
     },
     "execution_count": 17,
     "metadata": {},
     "output_type": "execute_result"
    }
   ],
   "source": [
    "crime.shape"
   ]
  },
  {
   "cell_type": "markdown",
   "id": "e7ac9965",
   "metadata": {},
   "source": [
    "## Explore Dataset"
   ]
  },
  {
   "cell_type": "code",
   "execution_count": 18,
   "id": "00f37b6d",
   "metadata": {},
   "outputs": [
    {
     "data": {
      "text/html": [
       "<div>\n",
       "<style scoped>\n",
       "    .dataframe tbody tr th:only-of-type {\n",
       "        vertical-align: middle;\n",
       "    }\n",
       "\n",
       "    .dataframe tbody tr th {\n",
       "        vertical-align: top;\n",
       "    }\n",
       "\n",
       "    .dataframe thead th {\n",
       "        text-align: right;\n",
       "    }\n",
       "</style>\n",
       "<table border=\"1\" class=\"dataframe\">\n",
       "  <thead>\n",
       "    <tr style=\"text-align: right;\">\n",
       "      <th></th>\n",
       "      <th>INCIDENT_NUMBER</th>\n",
       "      <th>OFFENSE_CODE</th>\n",
       "      <th>OFFENSE_CODE_GROUP</th>\n",
       "      <th>OFFENSE_DESCRIPTION</th>\n",
       "      <th>DISTRICT</th>\n",
       "      <th>REPORTING_AREA</th>\n",
       "      <th>SHOOTING</th>\n",
       "      <th>OCCURRED_ON_DATE</th>\n",
       "      <th>YEAR</th>\n",
       "      <th>MONTH</th>\n",
       "      <th>DAY_OF_WEEK</th>\n",
       "      <th>HOUR</th>\n",
       "      <th>UCR_PART</th>\n",
       "      <th>STREET</th>\n",
       "      <th>Lat</th>\n",
       "      <th>Long</th>\n",
       "      <th>Location</th>\n",
       "    </tr>\n",
       "  </thead>\n",
       "  <tbody>\n",
       "    <tr>\n",
       "      <th>0</th>\n",
       "      <td>I182070945</td>\n",
       "      <td>619</td>\n",
       "      <td>Larceny</td>\n",
       "      <td>LARCENY ALL OTHERS</td>\n",
       "      <td>D14</td>\n",
       "      <td>808</td>\n",
       "      <td>NaN</td>\n",
       "      <td>2018-09-02 13:00:00</td>\n",
       "      <td>2018</td>\n",
       "      <td>9</td>\n",
       "      <td>Sunday</td>\n",
       "      <td>13</td>\n",
       "      <td>Part One</td>\n",
       "      <td>LINCOLN ST</td>\n",
       "      <td>42.357791</td>\n",
       "      <td>-71.139371</td>\n",
       "      <td>(42.35779134, -71.13937053)</td>\n",
       "    </tr>\n",
       "    <tr>\n",
       "      <th>1</th>\n",
       "      <td>I182070943</td>\n",
       "      <td>1402</td>\n",
       "      <td>Vandalism</td>\n",
       "      <td>VANDALISM</td>\n",
       "      <td>C11</td>\n",
       "      <td>347</td>\n",
       "      <td>NaN</td>\n",
       "      <td>2018-08-21 00:00:00</td>\n",
       "      <td>2018</td>\n",
       "      <td>8</td>\n",
       "      <td>Tuesday</td>\n",
       "      <td>0</td>\n",
       "      <td>Part Two</td>\n",
       "      <td>HECLA ST</td>\n",
       "      <td>42.306821</td>\n",
       "      <td>-71.060300</td>\n",
       "      <td>(42.30682138, -71.06030035)</td>\n",
       "    </tr>\n",
       "    <tr>\n",
       "      <th>2</th>\n",
       "      <td>I182070941</td>\n",
       "      <td>3410</td>\n",
       "      <td>Towed</td>\n",
       "      <td>TOWED MOTOR VEHICLE</td>\n",
       "      <td>D4</td>\n",
       "      <td>151</td>\n",
       "      <td>NaN</td>\n",
       "      <td>2018-09-03 19:27:00</td>\n",
       "      <td>2018</td>\n",
       "      <td>9</td>\n",
       "      <td>Monday</td>\n",
       "      <td>19</td>\n",
       "      <td>Part Three</td>\n",
       "      <td>CAZENOVE ST</td>\n",
       "      <td>42.346589</td>\n",
       "      <td>-71.072429</td>\n",
       "      <td>(42.34658879, -71.07242943)</td>\n",
       "    </tr>\n",
       "    <tr>\n",
       "      <th>3</th>\n",
       "      <td>I182070940</td>\n",
       "      <td>3114</td>\n",
       "      <td>Investigate Property</td>\n",
       "      <td>INVESTIGATE PROPERTY</td>\n",
       "      <td>D4</td>\n",
       "      <td>272</td>\n",
       "      <td>NaN</td>\n",
       "      <td>2018-09-03 21:16:00</td>\n",
       "      <td>2018</td>\n",
       "      <td>9</td>\n",
       "      <td>Monday</td>\n",
       "      <td>21</td>\n",
       "      <td>Part Three</td>\n",
       "      <td>NEWCOMB ST</td>\n",
       "      <td>42.334182</td>\n",
       "      <td>-71.078664</td>\n",
       "      <td>(42.33418175, -71.07866441)</td>\n",
       "    </tr>\n",
       "    <tr>\n",
       "      <th>4</th>\n",
       "      <td>I182070938</td>\n",
       "      <td>3114</td>\n",
       "      <td>Investigate Property</td>\n",
       "      <td>INVESTIGATE PROPERTY</td>\n",
       "      <td>B3</td>\n",
       "      <td>421</td>\n",
       "      <td>NaN</td>\n",
       "      <td>2018-09-03 21:05:00</td>\n",
       "      <td>2018</td>\n",
       "      <td>9</td>\n",
       "      <td>Monday</td>\n",
       "      <td>21</td>\n",
       "      <td>Part Three</td>\n",
       "      <td>DELHI ST</td>\n",
       "      <td>42.275365</td>\n",
       "      <td>-71.090361</td>\n",
       "      <td>(42.27536542, -71.09036101)</td>\n",
       "    </tr>\n",
       "  </tbody>\n",
       "</table>\n",
       "</div>"
      ],
      "text/plain": [
       "  INCIDENT_NUMBER  OFFENSE_CODE    OFFENSE_CODE_GROUP   OFFENSE_DESCRIPTION  \\\n",
       "0      I182070945           619               Larceny    LARCENY ALL OTHERS   \n",
       "1      I182070943          1402             Vandalism             VANDALISM   \n",
       "2      I182070941          3410                 Towed   TOWED MOTOR VEHICLE   \n",
       "3      I182070940          3114  Investigate Property  INVESTIGATE PROPERTY   \n",
       "4      I182070938          3114  Investigate Property  INVESTIGATE PROPERTY   \n",
       "\n",
       "  DISTRICT REPORTING_AREA SHOOTING     OCCURRED_ON_DATE  YEAR  MONTH  \\\n",
       "0      D14            808      NaN  2018-09-02 13:00:00  2018      9   \n",
       "1      C11            347      NaN  2018-08-21 00:00:00  2018      8   \n",
       "2       D4            151      NaN  2018-09-03 19:27:00  2018      9   \n",
       "3       D4            272      NaN  2018-09-03 21:16:00  2018      9   \n",
       "4       B3            421      NaN  2018-09-03 21:05:00  2018      9   \n",
       "\n",
       "  DAY_OF_WEEK  HOUR    UCR_PART       STREET        Lat       Long  \\\n",
       "0      Sunday    13    Part One   LINCOLN ST  42.357791 -71.139371   \n",
       "1     Tuesday     0    Part Two     HECLA ST  42.306821 -71.060300   \n",
       "2      Monday    19  Part Three  CAZENOVE ST  42.346589 -71.072429   \n",
       "3      Monday    21  Part Three   NEWCOMB ST  42.334182 -71.078664   \n",
       "4      Monday    21  Part Three     DELHI ST  42.275365 -71.090361   \n",
       "\n",
       "                      Location  \n",
       "0  (42.35779134, -71.13937053)  \n",
       "1  (42.30682138, -71.06030035)  \n",
       "2  (42.34658879, -71.07242943)  \n",
       "3  (42.33418175, -71.07866441)  \n",
       "4  (42.27536542, -71.09036101)  "
      ]
     },
     "execution_count": 18,
     "metadata": {},
     "output_type": "execute_result"
    }
   ],
   "source": [
    "crime.head(5)"
   ]
  },
  {
   "cell_type": "code",
   "execution_count": 19,
   "id": "f6fbabd1",
   "metadata": {},
   "outputs": [
    {
     "data": {
      "text/html": [
       "<div>\n",
       "<style scoped>\n",
       "    .dataframe tbody tr th:only-of-type {\n",
       "        vertical-align: middle;\n",
       "    }\n",
       "\n",
       "    .dataframe tbody tr th {\n",
       "        vertical-align: top;\n",
       "    }\n",
       "\n",
       "    .dataframe thead th {\n",
       "        text-align: right;\n",
       "    }\n",
       "</style>\n",
       "<table border=\"1\" class=\"dataframe\">\n",
       "  <thead>\n",
       "    <tr style=\"text-align: right;\">\n",
       "      <th></th>\n",
       "      <th>INCIDENT_NUMBER</th>\n",
       "      <th>OFFENSE_CODE</th>\n",
       "      <th>OFFENSE_CODE_GROUP</th>\n",
       "      <th>OFFENSE_DESCRIPTION</th>\n",
       "      <th>DISTRICT</th>\n",
       "      <th>REPORTING_AREA</th>\n",
       "      <th>SHOOTING</th>\n",
       "      <th>OCCURRED_ON_DATE</th>\n",
       "      <th>YEAR</th>\n",
       "      <th>MONTH</th>\n",
       "      <th>DAY_OF_WEEK</th>\n",
       "      <th>HOUR</th>\n",
       "      <th>UCR_PART</th>\n",
       "      <th>STREET</th>\n",
       "      <th>Lat</th>\n",
       "      <th>Long</th>\n",
       "      <th>Location</th>\n",
       "    </tr>\n",
       "  </thead>\n",
       "  <tbody>\n",
       "    <tr>\n",
       "      <th>319068</th>\n",
       "      <td>I050310906-00</td>\n",
       "      <td>3125</td>\n",
       "      <td>Warrant Arrests</td>\n",
       "      <td>WARRANT ARREST</td>\n",
       "      <td>D4</td>\n",
       "      <td>285</td>\n",
       "      <td>NaN</td>\n",
       "      <td>2016-06-05 17:25:00</td>\n",
       "      <td>2016</td>\n",
       "      <td>6</td>\n",
       "      <td>Sunday</td>\n",
       "      <td>17</td>\n",
       "      <td>Part Three</td>\n",
       "      <td>COVENTRY ST</td>\n",
       "      <td>42.336951</td>\n",
       "      <td>-71.085748</td>\n",
       "      <td>(42.33695098, -71.08574813)</td>\n",
       "    </tr>\n",
       "    <tr>\n",
       "      <th>319069</th>\n",
       "      <td>I030217815-08</td>\n",
       "      <td>111</td>\n",
       "      <td>Homicide</td>\n",
       "      <td>MURDER, NON-NEGLIGIENT MANSLAUGHTER</td>\n",
       "      <td>E18</td>\n",
       "      <td>520</td>\n",
       "      <td>NaN</td>\n",
       "      <td>2015-07-09 13:38:00</td>\n",
       "      <td>2015</td>\n",
       "      <td>7</td>\n",
       "      <td>Thursday</td>\n",
       "      <td>13</td>\n",
       "      <td>Part One</td>\n",
       "      <td>RIVER ST</td>\n",
       "      <td>42.255926</td>\n",
       "      <td>-71.123172</td>\n",
       "      <td>(42.25592648, -71.12317207)</td>\n",
       "    </tr>\n",
       "    <tr>\n",
       "      <th>319070</th>\n",
       "      <td>I030217815-08</td>\n",
       "      <td>3125</td>\n",
       "      <td>Warrant Arrests</td>\n",
       "      <td>WARRANT ARREST</td>\n",
       "      <td>E18</td>\n",
       "      <td>520</td>\n",
       "      <td>NaN</td>\n",
       "      <td>2015-07-09 13:38:00</td>\n",
       "      <td>2015</td>\n",
       "      <td>7</td>\n",
       "      <td>Thursday</td>\n",
       "      <td>13</td>\n",
       "      <td>Part Three</td>\n",
       "      <td>RIVER ST</td>\n",
       "      <td>42.255926</td>\n",
       "      <td>-71.123172</td>\n",
       "      <td>(42.25592648, -71.12317207)</td>\n",
       "    </tr>\n",
       "    <tr>\n",
       "      <th>319071</th>\n",
       "      <td>I010370257-00</td>\n",
       "      <td>3125</td>\n",
       "      <td>Warrant Arrests</td>\n",
       "      <td>WARRANT ARREST</td>\n",
       "      <td>E13</td>\n",
       "      <td>569</td>\n",
       "      <td>NaN</td>\n",
       "      <td>2016-05-31 19:35:00</td>\n",
       "      <td>2016</td>\n",
       "      <td>5</td>\n",
       "      <td>Tuesday</td>\n",
       "      <td>19</td>\n",
       "      <td>Part Three</td>\n",
       "      <td>NEW WASHINGTON ST</td>\n",
       "      <td>42.302333</td>\n",
       "      <td>-71.111565</td>\n",
       "      <td>(42.30233307, -71.11156487)</td>\n",
       "    </tr>\n",
       "    <tr>\n",
       "      <th>319072</th>\n",
       "      <td>142052550</td>\n",
       "      <td>3125</td>\n",
       "      <td>Warrant Arrests</td>\n",
       "      <td>WARRANT ARREST</td>\n",
       "      <td>D4</td>\n",
       "      <td>903</td>\n",
       "      <td>NaN</td>\n",
       "      <td>2015-06-22 00:12:00</td>\n",
       "      <td>2015</td>\n",
       "      <td>6</td>\n",
       "      <td>Monday</td>\n",
       "      <td>0</td>\n",
       "      <td>Part Three</td>\n",
       "      <td>WASHINGTON ST</td>\n",
       "      <td>42.333839</td>\n",
       "      <td>-71.080290</td>\n",
       "      <td>(42.33383935, -71.08029038)</td>\n",
       "    </tr>\n",
       "  </tbody>\n",
       "</table>\n",
       "</div>"
      ],
      "text/plain": [
       "       INCIDENT_NUMBER  OFFENSE_CODE OFFENSE_CODE_GROUP  \\\n",
       "319068   I050310906-00          3125    Warrant Arrests   \n",
       "319069   I030217815-08           111           Homicide   \n",
       "319070   I030217815-08          3125    Warrant Arrests   \n",
       "319071   I010370257-00          3125    Warrant Arrests   \n",
       "319072       142052550          3125    Warrant Arrests   \n",
       "\n",
       "                        OFFENSE_DESCRIPTION DISTRICT REPORTING_AREA SHOOTING  \\\n",
       "319068                       WARRANT ARREST       D4            285      NaN   \n",
       "319069  MURDER, NON-NEGLIGIENT MANSLAUGHTER      E18            520      NaN   \n",
       "319070                       WARRANT ARREST      E18            520      NaN   \n",
       "319071                       WARRANT ARREST      E13            569      NaN   \n",
       "319072                       WARRANT ARREST       D4            903      NaN   \n",
       "\n",
       "           OCCURRED_ON_DATE  YEAR  MONTH DAY_OF_WEEK  HOUR    UCR_PART  \\\n",
       "319068  2016-06-05 17:25:00  2016      6      Sunday    17  Part Three   \n",
       "319069  2015-07-09 13:38:00  2015      7    Thursday    13    Part One   \n",
       "319070  2015-07-09 13:38:00  2015      7    Thursday    13  Part Three   \n",
       "319071  2016-05-31 19:35:00  2016      5     Tuesday    19  Part Three   \n",
       "319072  2015-06-22 00:12:00  2015      6      Monday     0  Part Three   \n",
       "\n",
       "                   STREET        Lat       Long                     Location  \n",
       "319068        COVENTRY ST  42.336951 -71.085748  (42.33695098, -71.08574813)  \n",
       "319069           RIVER ST  42.255926 -71.123172  (42.25592648, -71.12317207)  \n",
       "319070           RIVER ST  42.255926 -71.123172  (42.25592648, -71.12317207)  \n",
       "319071  NEW WASHINGTON ST  42.302333 -71.111565  (42.30233307, -71.11156487)  \n",
       "319072      WASHINGTON ST  42.333839 -71.080290  (42.33383935, -71.08029038)  "
      ]
     },
     "execution_count": 19,
     "metadata": {},
     "output_type": "execute_result"
    }
   ],
   "source": [
    "crime.tail(5)"
   ]
  },
  {
   "cell_type": "markdown",
   "id": "6a9aaa93",
   "metadata": {},
   "source": [
    "## Initial Data Exploration\n",
    "Here, we check the structure of our dataset, including column names, data types, and missing values. We also generate summary statistics to understand distributions."
   ]
  },
  {
   "cell_type": "code",
   "execution_count": 20,
   "id": "ceca989d",
   "metadata": {},
   "outputs": [
    {
     "name": "stdout",
     "output_type": "stream",
     "text": [
      "<class 'pandas.core.frame.DataFrame'>\n",
      "Int64Index: 319050 entries, 0 to 319072\n",
      "Data columns (total 17 columns):\n",
      " #   Column               Non-Null Count   Dtype  \n",
      "---  ------               --------------   -----  \n",
      " 0   INCIDENT_NUMBER      319050 non-null  object \n",
      " 1   OFFENSE_CODE         319050 non-null  int64  \n",
      " 2   OFFENSE_CODE_GROUP   319050 non-null  object \n",
      " 3   OFFENSE_DESCRIPTION  319050 non-null  object \n",
      " 4   DISTRICT             317285 non-null  object \n",
      " 5   REPORTING_AREA       319050 non-null  object \n",
      " 6   SHOOTING             1019 non-null    object \n",
      " 7   OCCURRED_ON_DATE     319050 non-null  object \n",
      " 8   YEAR                 319050 non-null  int64  \n",
      " 9   MONTH                319050 non-null  int64  \n",
      " 10  DAY_OF_WEEK          319050 non-null  object \n",
      " 11  HOUR                 319050 non-null  int64  \n",
      " 12  UCR_PART             318960 non-null  object \n",
      " 13  STREET               308179 non-null  object \n",
      " 14  Lat                  299052 non-null  float64\n",
      " 15  Long                 299052 non-null  float64\n",
      " 16  Location             319050 non-null  object \n",
      "dtypes: float64(2), int64(4), object(11)\n",
      "memory usage: 43.8+ MB\n"
     ]
    }
   ],
   "source": [
    "crime.info() ## Summary Info\n",
    "## some null values"
   ]
  },
  {
   "cell_type": "code",
   "execution_count": 22,
   "id": "b02b38a0",
   "metadata": {},
   "outputs": [],
   "source": [
    "crime['OCCURRED_ON_DATE'] = pd.to_datetime(crime['OCCURRED_ON_DATE'])"
   ]
  },
  {
   "cell_type": "markdown",
   "id": "3513a78f",
   "metadata": {},
   "source": [
    "## Initial Data Exploration\n",
    "Here, we check the structure of our dataset, including column names, data types, and missing values. We also generate summary statistics to understand distributions."
   ]
  },
  {
   "cell_type": "code",
   "execution_count": 23,
   "id": "fa2ae306",
   "metadata": {},
   "outputs": [
    {
     "name": "stdout",
     "output_type": "stream",
     "text": [
      "<class 'pandas.core.frame.DataFrame'>\n",
      "Int64Index: 319050 entries, 0 to 319072\n",
      "Data columns (total 17 columns):\n",
      " #   Column               Non-Null Count   Dtype         \n",
      "---  ------               --------------   -----         \n",
      " 0   INCIDENT_NUMBER      319050 non-null  object        \n",
      " 1   OFFENSE_CODE         319050 non-null  int64         \n",
      " 2   OFFENSE_CODE_GROUP   319050 non-null  object        \n",
      " 3   OFFENSE_DESCRIPTION  319050 non-null  object        \n",
      " 4   DISTRICT             317285 non-null  object        \n",
      " 5   REPORTING_AREA       319050 non-null  object        \n",
      " 6   SHOOTING             1019 non-null    object        \n",
      " 7   OCCURRED_ON_DATE     319050 non-null  datetime64[ns]\n",
      " 8   YEAR                 319050 non-null  int64         \n",
      " 9   MONTH                319050 non-null  int64         \n",
      " 10  DAY_OF_WEEK          319050 non-null  object        \n",
      " 11  HOUR                 319050 non-null  int64         \n",
      " 12  UCR_PART             318960 non-null  object        \n",
      " 13  STREET               308179 non-null  object        \n",
      " 14  Lat                  299052 non-null  float64       \n",
      " 15  Long                 299052 non-null  float64       \n",
      " 16  Location             319050 non-null  object        \n",
      "dtypes: datetime64[ns](1), float64(2), int64(4), object(10)\n",
      "memory usage: 43.8+ MB\n"
     ]
    }
   ],
   "source": [
    "crime.info()"
   ]
  },
  {
   "cell_type": "code",
   "execution_count": 25,
   "id": "755f9ebd",
   "metadata": {},
   "outputs": [
    {
     "data": {
      "text/plain": [
       "0         2018\n",
       "1         2018\n",
       "2         2018\n",
       "3         2018\n",
       "4         2018\n",
       "          ... \n",
       "319068    2016\n",
       "319069    2015\n",
       "319070    2015\n",
       "319071    2016\n",
       "319072    2015\n",
       "Name: OCCURRED_ON_DATE, Length: 319050, dtype: int64"
      ]
     },
     "execution_count": 25,
     "metadata": {},
     "output_type": "execute_result"
    }
   ],
   "source": [
    "crime['OCCURRED_ON_DATE'].dt.year"
   ]
  },
  {
   "cell_type": "code",
   "execution_count": 26,
   "id": "e692ba3a",
   "metadata": {},
   "outputs": [
    {
     "data": {
      "text/plain": [
       "0         9\n",
       "1         8\n",
       "2         9\n",
       "3         9\n",
       "4         9\n",
       "         ..\n",
       "319068    6\n",
       "319069    7\n",
       "319070    7\n",
       "319071    5\n",
       "319072    6\n",
       "Name: OCCURRED_ON_DATE, Length: 319050, dtype: int64"
      ]
     },
     "execution_count": 26,
     "metadata": {},
     "output_type": "execute_result"
    }
   ],
   "source": [
    "crime['OCCURRED_ON_DATE'].dt.month"
   ]
  },
  {
   "cell_type": "code",
   "execution_count": 27,
   "id": "201a0be9",
   "metadata": {},
   "outputs": [
    {
     "name": "stderr",
     "output_type": "stream",
     "text": [
      "C:\\Users\\Thomas Breton\\AppData\\Local\\Temp\\ipykernel_17932\\2472976291.py:1: FutureWarning: Series.dt.weekofyear and Series.dt.week have been deprecated. Please use Series.dt.isocalendar().week instead.\n",
      "  crime['OCCURRED_ON_DATE'].dt.week\n"
     ]
    },
    {
     "data": {
      "text/plain": [
       "0         35\n",
       "1         34\n",
       "2         36\n",
       "3         36\n",
       "4         36\n",
       "          ..\n",
       "319068    22\n",
       "319069    28\n",
       "319070    28\n",
       "319071    22\n",
       "319072    26\n",
       "Name: OCCURRED_ON_DATE, Length: 319050, dtype: int64"
      ]
     },
     "execution_count": 27,
     "metadata": {},
     "output_type": "execute_result"
    }
   ],
   "source": [
    "crime['OCCURRED_ON_DATE'].dt.week"
   ]
  },
  {
   "cell_type": "markdown",
   "id": "b333b85f",
   "metadata": {},
   "source": [
    "## Initial Data Exploration\n",
    "Here, we check the structure of our dataset, including column names, data types, and missing values. We also generate summary statistics to understand distributions."
   ]
  },
  {
   "cell_type": "code",
   "execution_count": 28,
   "id": "5878107d",
   "metadata": {},
   "outputs": [
    {
     "data": {
      "text/html": [
       "<div>\n",
       "<style scoped>\n",
       "    .dataframe tbody tr th:only-of-type {\n",
       "        vertical-align: middle;\n",
       "    }\n",
       "\n",
       "    .dataframe tbody tr th {\n",
       "        vertical-align: top;\n",
       "    }\n",
       "\n",
       "    .dataframe thead th {\n",
       "        text-align: right;\n",
       "    }\n",
       "</style>\n",
       "<table border=\"1\" class=\"dataframe\">\n",
       "  <thead>\n",
       "    <tr style=\"text-align: right;\">\n",
       "      <th></th>\n",
       "      <th>OFFENSE_CODE</th>\n",
       "      <th>YEAR</th>\n",
       "      <th>MONTH</th>\n",
       "      <th>HOUR</th>\n",
       "      <th>Lat</th>\n",
       "      <th>Long</th>\n",
       "    </tr>\n",
       "  </thead>\n",
       "  <tbody>\n",
       "    <tr>\n",
       "      <th>count</th>\n",
       "      <td>319050.000000</td>\n",
       "      <td>319050.000000</td>\n",
       "      <td>319050.000000</td>\n",
       "      <td>319050.000000</td>\n",
       "      <td>299052.000000</td>\n",
       "      <td>299052.000000</td>\n",
       "    </tr>\n",
       "    <tr>\n",
       "      <th>mean</th>\n",
       "      <td>2317.516957</td>\n",
       "      <td>2016.560674</td>\n",
       "      <td>6.609622</td>\n",
       "      <td>13.118176</td>\n",
       "      <td>42.214373</td>\n",
       "      <td>-70.908260</td>\n",
       "    </tr>\n",
       "    <tr>\n",
       "      <th>std</th>\n",
       "      <td>1185.308921</td>\n",
       "      <td>0.996312</td>\n",
       "      <td>3.273677</td>\n",
       "      <td>6.294258</td>\n",
       "      <td>2.159845</td>\n",
       "      <td>3.493746</td>\n",
       "    </tr>\n",
       "    <tr>\n",
       "      <th>min</th>\n",
       "      <td>111.000000</td>\n",
       "      <td>2015.000000</td>\n",
       "      <td>1.000000</td>\n",
       "      <td>0.000000</td>\n",
       "      <td>-1.000000</td>\n",
       "      <td>-71.178674</td>\n",
       "    </tr>\n",
       "    <tr>\n",
       "      <th>25%</th>\n",
       "      <td>1001.000000</td>\n",
       "      <td>2016.000000</td>\n",
       "      <td>4.000000</td>\n",
       "      <td>9.000000</td>\n",
       "      <td>42.297438</td>\n",
       "      <td>-71.097135</td>\n",
       "    </tr>\n",
       "    <tr>\n",
       "      <th>50%</th>\n",
       "      <td>2907.000000</td>\n",
       "      <td>2017.000000</td>\n",
       "      <td>7.000000</td>\n",
       "      <td>14.000000</td>\n",
       "      <td>42.325538</td>\n",
       "      <td>-71.077524</td>\n",
       "    </tr>\n",
       "    <tr>\n",
       "      <th>75%</th>\n",
       "      <td>3201.000000</td>\n",
       "      <td>2017.000000</td>\n",
       "      <td>9.000000</td>\n",
       "      <td>18.000000</td>\n",
       "      <td>42.348624</td>\n",
       "      <td>-71.062467</td>\n",
       "    </tr>\n",
       "    <tr>\n",
       "      <th>max</th>\n",
       "      <td>3831.000000</td>\n",
       "      <td>2018.000000</td>\n",
       "      <td>12.000000</td>\n",
       "      <td>23.000000</td>\n",
       "      <td>42.395042</td>\n",
       "      <td>-1.000000</td>\n",
       "    </tr>\n",
       "  </tbody>\n",
       "</table>\n",
       "</div>"
      ],
      "text/plain": [
       "        OFFENSE_CODE           YEAR          MONTH           HOUR  \\\n",
       "count  319050.000000  319050.000000  319050.000000  319050.000000   \n",
       "mean     2317.516957    2016.560674       6.609622      13.118176   \n",
       "std      1185.308921       0.996312       3.273677       6.294258   \n",
       "min       111.000000    2015.000000       1.000000       0.000000   \n",
       "25%      1001.000000    2016.000000       4.000000       9.000000   \n",
       "50%      2907.000000    2017.000000       7.000000      14.000000   \n",
       "75%      3201.000000    2017.000000       9.000000      18.000000   \n",
       "max      3831.000000    2018.000000      12.000000      23.000000   \n",
       "\n",
       "                 Lat           Long  \n",
       "count  299052.000000  299052.000000  \n",
       "mean       42.214373     -70.908260  \n",
       "std         2.159845       3.493746  \n",
       "min        -1.000000     -71.178674  \n",
       "25%        42.297438     -71.097135  \n",
       "50%        42.325538     -71.077524  \n",
       "75%        42.348624     -71.062467  \n",
       "max        42.395042      -1.000000  "
      ]
     },
     "execution_count": 28,
     "metadata": {},
     "output_type": "execute_result"
    }
   ],
   "source": [
    "crime.describe() ## summary info"
   ]
  },
  {
   "cell_type": "code",
   "execution_count": 30,
   "id": "7ffaed8c",
   "metadata": {},
   "outputs": [
    {
     "data": {
      "text/html": [
       "<div>\n",
       "<style scoped>\n",
       "    .dataframe tbody tr th:only-of-type {\n",
       "        vertical-align: middle;\n",
       "    }\n",
       "\n",
       "    .dataframe tbody tr th {\n",
       "        vertical-align: top;\n",
       "    }\n",
       "\n",
       "    .dataframe thead th {\n",
       "        text-align: right;\n",
       "    }\n",
       "</style>\n",
       "<table border=\"1\" class=\"dataframe\">\n",
       "  <thead>\n",
       "    <tr style=\"text-align: right;\">\n",
       "      <th></th>\n",
       "      <th>INCIDENT_NUMBER</th>\n",
       "      <th>OFFENSE_CODE_GROUP</th>\n",
       "      <th>OFFENSE_DESCRIPTION</th>\n",
       "      <th>DISTRICT</th>\n",
       "      <th>REPORTING_AREA</th>\n",
       "      <th>SHOOTING</th>\n",
       "      <th>DAY_OF_WEEK</th>\n",
       "      <th>UCR_PART</th>\n",
       "      <th>STREET</th>\n",
       "      <th>Location</th>\n",
       "    </tr>\n",
       "  </thead>\n",
       "  <tbody>\n",
       "    <tr>\n",
       "      <th>count</th>\n",
       "      <td>319050</td>\n",
       "      <td>319050</td>\n",
       "      <td>319050</td>\n",
       "      <td>317285</td>\n",
       "      <td>319050</td>\n",
       "      <td>1019</td>\n",
       "      <td>319050</td>\n",
       "      <td>318960</td>\n",
       "      <td>308179</td>\n",
       "      <td>319050</td>\n",
       "    </tr>\n",
       "    <tr>\n",
       "      <th>unique</th>\n",
       "      <td>282517</td>\n",
       "      <td>67</td>\n",
       "      <td>244</td>\n",
       "      <td>12</td>\n",
       "      <td>879</td>\n",
       "      <td>1</td>\n",
       "      <td>7</td>\n",
       "      <td>4</td>\n",
       "      <td>4657</td>\n",
       "      <td>18194</td>\n",
       "    </tr>\n",
       "    <tr>\n",
       "      <th>top</th>\n",
       "      <td>I162030584</td>\n",
       "      <td>Motor Vehicle Accident Response</td>\n",
       "      <td>SICK/INJURED/MEDICAL - PERSON</td>\n",
       "      <td>B2</td>\n",
       "      <td></td>\n",
       "      <td>Y</td>\n",
       "      <td>Friday</td>\n",
       "      <td>Part Three</td>\n",
       "      <td>WASHINGTON ST</td>\n",
       "      <td>(0.00000000, 0.00000000)</td>\n",
       "    </tr>\n",
       "    <tr>\n",
       "      <th>freq</th>\n",
       "      <td>13</td>\n",
       "      <td>37132</td>\n",
       "      <td>18783</td>\n",
       "      <td>49940</td>\n",
       "      <td>20250</td>\n",
       "      <td>1019</td>\n",
       "      <td>48489</td>\n",
       "      <td>158537</td>\n",
       "      <td>14192</td>\n",
       "      <td>19998</td>\n",
       "    </tr>\n",
       "  </tbody>\n",
       "</table>\n",
       "</div>"
      ],
      "text/plain": [
       "       INCIDENT_NUMBER               OFFENSE_CODE_GROUP  \\\n",
       "count           319050                           319050   \n",
       "unique          282517                               67   \n",
       "top         I162030584  Motor Vehicle Accident Response   \n",
       "freq                13                            37132   \n",
       "\n",
       "                  OFFENSE_DESCRIPTION DISTRICT REPORTING_AREA SHOOTING  \\\n",
       "count                          319050   317285         319050     1019   \n",
       "unique                            244       12            879        1   \n",
       "top     SICK/INJURED/MEDICAL - PERSON       B2                       Y   \n",
       "freq                            18783    49940          20250     1019   \n",
       "\n",
       "       DAY_OF_WEEK    UCR_PART         STREET                  Location  \n",
       "count       319050      318960         308179                    319050  \n",
       "unique           7           4           4657                     18194  \n",
       "top         Friday  Part Three  WASHINGTON ST  (0.00000000, 0.00000000)  \n",
       "freq         48489      158537          14192                     19998  "
      ]
     },
     "execution_count": 30,
     "metadata": {},
     "output_type": "execute_result"
    }
   ],
   "source": [
    "crime.describe(include=object) ## Get information on non numeric columns"
   ]
  },
  {
   "cell_type": "code",
   "execution_count": 32,
   "id": "5250d722",
   "metadata": {},
   "outputs": [
    {
     "data": {
      "text/plain": [
       "['DISTRICT', 'SHOOTING', 'UCR_PART', 'STREET', 'Lat', 'Long']"
      ]
     },
     "execution_count": 32,
     "metadata": {},
     "output_type": "execute_result"
    }
   ],
   "source": [
    "## Columns with null values\n",
    "crime.columns[crime.isnull().any()].tolist()"
   ]
  },
  {
   "cell_type": "code",
   "execution_count": 35,
   "id": "220d7b54",
   "metadata": {},
   "outputs": [
    {
     "data": {
      "text/plain": [
       "Index(['INCIDENT_NUMBER', 'OFFENSE_CODE', 'OFFENSE_CODE_GROUP',\n",
       "       'OFFENSE_DESCRIPTION', 'REPORTING_AREA', 'OCCURRED_ON_DATE', 'YEAR',\n",
       "       'MONTH', 'DAY_OF_WEEK', 'HOUR', 'Location'],\n",
       "      dtype='object')"
      ]
     },
     "execution_count": 35,
     "metadata": {},
     "output_type": "execute_result"
    }
   ],
   "source": [
    "## Columns with no missing values\n",
    "crime.columns[np.sum(crime.isnull())== 0]"
   ]
  },
  {
   "cell_type": "code",
   "execution_count": 47,
   "id": "d133915f",
   "metadata": {},
   "outputs": [
    {
     "name": "stdout",
     "output_type": "stream",
     "text": [
      "INCIDENT_NUMBER has 282517 unique values\n",
      "OFFENSE_CODE has 222 unique values\n",
      "OFFENSE_CODE_GROUP has 67 unique values\n",
      "OFFENSE_DESCRIPTION has 244 unique values\n",
      "DISTRICT has 12 unique values\n",
      "REPORTING_AREA has 879 unique values\n",
      "SHOOTING has 1 unique values\n",
      "OCCURRED_ON_DATE has 233229 unique values\n",
      "YEAR has 4 unique values\n",
      "MONTH has 12 unique values\n",
      "DAY_OF_WEEK has 7 unique values\n",
      "HOUR has 24 unique values\n",
      "UCR_PART has 4 unique values\n",
      "STREET has 4657 unique values\n",
      "Lat has 18178 unique values\n",
      "Long has 18178 unique values\n",
      "Location has 18194 unique values\n"
     ]
    }
   ],
   "source": [
    "for col in crime.columns:\n",
    "    unique_count = crime[col].nunique()\n",
    "    print(col + ' has ' + str(unique_count) + ' unique values')"
   ]
  },
  {
   "cell_type": "markdown",
   "id": "412fad12",
   "metadata": {},
   "source": [
    "## Answering Some Questions"
   ]
  },
  {
   "cell_type": "markdown",
   "id": "17e25cad",
   "metadata": {},
   "source": [
    "## Grouping and Aggregation\n",
    "We perform group-by operations to analyze crime patterns over time, by category, or location."
   ]
  },
  {
   "cell_type": "code",
   "execution_count": 53,
   "id": "1bb4fbf2",
   "metadata": {},
   "outputs": [
    {
     "data": {
      "text/plain": [
       "Motor Vehicle Accident Response              37132\n",
       "Larceny                                      25935\n",
       "Medical Assistance                           23540\n",
       "Investigate Person                           18749\n",
       "Other                                        18073\n",
       "                                             ...  \n",
       "HUMAN TRAFFICKING                                7\n",
       "INVESTIGATE PERSON                               4\n",
       "Biological Threat                                2\n",
       "HUMAN TRAFFICKING - INVOLUNTARY SERVITUDE        2\n",
       "Burglary - No Property Taken                     2\n",
       "Name: OFFENSE_CODE_GROUP, Length: 67, dtype: int64"
      ]
     },
     "execution_count": 53,
     "metadata": {},
     "output_type": "execute_result"
    }
   ],
   "source": [
    "## Which are the most common crimes?\n",
    "crime.head()\n",
    "crime['OFFENSE_CODE_GROUP'].value_counts()"
   ]
  },
  {
   "cell_type": "markdown",
   "id": "cfd981ae",
   "metadata": {},
   "source": [
    "## Grouping and Aggregation\n",
    "We perform group-by operations to analyze crime patterns over time, by category, or location."
   ]
  },
  {
   "cell_type": "code",
   "execution_count": 55,
   "id": "f82dd22e",
   "metadata": {},
   "outputs": [
    {
     "data": {
      "text/plain": [
       "Motor Vehicle Accident Response    37132\n",
       "Larceny                            25935\n",
       "Medical Assistance                 23540\n",
       "Investigate Person                 18749\n",
       "Other                              18073\n",
       "Drug Violation                     16545\n",
       "Simple Assault                     15826\n",
       "Vandalism                          15414\n",
       "Verbal Disputes                    13099\n",
       "Towed                              11287\n",
       "Name: OFFENSE_CODE_GROUP, dtype: int64"
      ]
     },
     "execution_count": 55,
     "metadata": {},
     "output_type": "execute_result"
    }
   ],
   "source": [
    "top_off_vals = crime['OFFENSE_CODE_GROUP'].value_counts()[:10]\n",
    "top_off_vals"
   ]
  },
  {
   "cell_type": "code",
   "execution_count": 71,
   "id": "0931741f",
   "metadata": {},
   "outputs": [
    {
     "data": {
      "text/plain": [
       "Motor Vehicle Accident Response    0.116383\n",
       "Larceny                            0.081288\n",
       "Medical Assistance                 0.073782\n",
       "Investigate Person                 0.058765\n",
       "Other                              0.056646\n",
       "Drug Violation                     0.051857\n",
       "Simple Assault                     0.049604\n",
       "Vandalism                          0.048312\n",
       "Verbal Disputes                    0.041056\n",
       "Towed                              0.035377\n",
       "Name: OFFENSE_CODE_GROUP, dtype: float64"
      ]
     },
     "metadata": {},
     "output_type": "display_data"
    }
   ],
   "source": [
    "display(top_off_vals/crime.shape[0]) ## Displaying as a percentage"
   ]
  },
  {
   "cell_type": "markdown",
   "id": "547011fa",
   "metadata": {},
   "source": [
    "## Data Visualization\n",
    "Visualizing the data helps us uncover trends, patterns, and outliers. Here, we use Matplotlib and Seaborn for plotting."
   ]
  },
  {
   "cell_type": "code",
   "execution_count": 79,
   "id": "f4439b45",
   "metadata": {},
   "outputs": [
    {
     "data": {
      "text/plain": [
       "Text(0.5, 1.0, 'Top 10 Offense Groups as percentage')"
      ]
     },
     "execution_count": 79,
     "metadata": {},
     "output_type": "execute_result"
    },
    {
     "data": {
      "image/png": "[encoded data removed]",
      "text/plain": [
       "<Figure size 640x480 with 1 Axes>"
      ]
     },
     "metadata": {},
     "output_type": "display_data"
    }
   ],
   "source": [
    "(top_off_vals/crime.shape[0]).plot(kind ='bar');\n",
    "plt.title('Top 10 Offense Groups as percentage')"
   ]
  },
  {
   "cell_type": "markdown",
   "id": "3afc146c",
   "metadata": {},
   "source": [
    "## Grouping and Aggregation\n",
    "We perform group-by operations to analyze crime patterns over time, by category, or location."
   ]
  },
  {
   "cell_type": "code",
   "execution_count": 81,
   "id": "f418fa21",
   "metadata": {},
   "outputs": [
    {
     "data": {
      "text/plain": [
       "Burglary - No Property Taken                  2\n",
       "HUMAN TRAFFICKING - INVOLUNTARY SERVITUDE     2\n",
       "Biological Threat                             2\n",
       "INVESTIGATE PERSON                            4\n",
       "HUMAN TRAFFICKING                             7\n",
       "Gambling                                      8\n",
       "Manslaughter                                  8\n",
       "Explosives                                   27\n",
       "Phone Call Complaints                        31\n",
       "Aircraft                                     36\n",
       "Name: OFFENSE_CODE_GROUP, dtype: int64"
      ]
     },
     "execution_count": 81,
     "metadata": {},
     "output_type": "execute_result"
    }
   ],
   "source": [
    "## Least common crimes\n",
    "crime['OFFENSE_CODE_GROUP'].value_counts().sort_values(ascending=True)[:10]"
   ]
  },
  {
   "cell_type": "markdown",
   "id": "65dbbd39",
   "metadata": {},
   "source": [
    "## Grouping and Aggregation\n",
    "We perform group-by operations to analyze crime patterns over time, by category, or location."
   ]
  },
  {
   "cell_type": "code",
   "execution_count": 82,
   "id": "0c97c4f4",
   "metadata": {},
   "outputs": [
    {
     "data": {
      "text/plain": [
       "SICK/INJURED/MEDICAL - PERSON            18783\n",
       "INVESTIGATE PERSON                       18753\n",
       "M/V - LEAVING SCENE - PROPERTY DAMAGE    16323\n",
       "VANDALISM                                15153\n",
       "ASSAULT SIMPLE - BATTERY                 14791\n",
       "VERBAL DISPUTE                           13099\n",
       "TOWED MOTOR VEHICLE                      11287\n",
       "INVESTIGATE PROPERTY                     11124\n",
       "LARCENY THEFT FROM BUILDING               9069\n",
       "THREATS TO DO BODILY HARM                 9042\n",
       "Name: OFFENSE_DESCRIPTION, dtype: int64"
      ]
     },
     "execution_count": 82,
     "metadata": {},
     "output_type": "execute_result"
    }
   ],
   "source": [
    "## Most common offense descriptions\n",
    "crime['OFFENSE_DESCRIPTION'].value_counts()[:10]"
   ]
  },
  {
   "cell_type": "markdown",
   "id": "b569ab68",
   "metadata": {},
   "source": [
    "## Grouping and Aggregation\n",
    "We perform group-by operations to analyze crime patterns over time, by category, or location."
   ]
  },
  {
   "cell_type": "code",
   "execution_count": 83,
   "id": "271fabe2",
   "metadata": {},
   "outputs": [],
   "source": [
    "top_off_descr = crime['OFFENSE_CODE_GROUP'].value_counts()[:10]"
   ]
  },
  {
   "cell_type": "markdown",
   "id": "98acc85b",
   "metadata": {},
   "source": [
    "## Data Visualization\n",
    "Visualizing the data helps us uncover trends, patterns, and outliers. Here, we use Matplotlib and Seaborn for plotting."
   ]
  },
  {
   "cell_type": "code",
   "execution_count": 87,
   "id": "6788343f",
   "metadata": {},
   "outputs": [
    {
     "data": {
      "text/plain": [
       "Text(0.5, 1.0, 'Top Offense Coud Groups as Percentage')"
      ]
     },
     "execution_count": 87,
     "metadata": {},
     "output_type": "execute_result"
    },
    {
     "data": {
      "image/png": "[encoded data removed]",
      "text/plain": [
       "<Figure size 640x480 with 1 Axes>"
      ]
     },
     "metadata": {},
     "output_type": "display_data"
    }
   ],
   "source": [
    "(top_off_descr/crime.shape[0]).plot(kind='bar')\n",
    "plt.title('Top Offense Coud Groups as Percentage')"
   ]
  },
  {
   "cell_type": "markdown",
   "id": "fa3bc7bb",
   "metadata": {},
   "source": [
    "## Grouping and Aggregation\n",
    "We perform group-by operations to analyze crime patterns over time, by category, or location."
   ]
  },
  {
   "cell_type": "code",
   "execution_count": 88,
   "id": "ba49f65f",
   "metadata": {},
   "outputs": [
    {
     "data": {
      "text/plain": [
       "2017    100884\n",
       "2016     99110\n",
       "2018     65685\n",
       "2015     53371\n",
       "Name: YEAR, dtype: int64"
      ]
     },
     "execution_count": 88,
     "metadata": {},
     "output_type": "execute_result"
    }
   ],
   "source": [
    "## Years when crimes were commited\n",
    "crime['YEAR'].value_counts()"
   ]
  },
  {
   "cell_type": "markdown",
   "id": "931e8919",
   "metadata": {},
   "source": [
    "## Grouping and Aggregation\n",
    "We perform group-by operations to analyze crime patterns over time, by category, or location."
   ]
  },
  {
   "cell_type": "code",
   "execution_count": 94,
   "id": "b7b7a314",
   "metadata": {},
   "outputs": [
    {
     "data": {
      "text/plain": [
       "Text(0.5, 1.0, 'Number of Incidents')"
      ]
     },
     "execution_count": 94,
     "metadata": {},
     "output_type": "execute_result"
    },
    {
     "data": {
      "image/png": "[encoded data removed]",
      "text/plain": [
       "<Figure size 640x480 with 1 Axes>"
      ]
     },
     "metadata": {},
     "output_type": "display_data"
    }
   ],
   "source": [
    "crime.groupby('YEAR').count()['INCIDENT_NUMBER'].plot(kind='bar')\n",
    "plt.title('Number of Incidents')"
   ]
  },
  {
   "cell_type": "markdown",
   "id": "253740c6",
   "metadata": {},
   "source": [
    "## Grouping and Aggregation\n",
    "We perform group-by operations to analyze crime patterns over time, by category, or location."
   ]
  },
  {
   "cell_type": "code",
   "execution_count": 100,
   "id": "02564dea",
   "metadata": {},
   "outputs": [
    {
     "data": {
      "text/plain": [
       "<AxesSubplot:xlabel='YEAR', ylabel='INCIDENT_NUMBER'>"
      ]
     },
     "execution_count": 100,
     "metadata": {},
     "output_type": "execute_result"
    },
    {
     "data": {
      "image/png": "[encoded data removed]",
      "text/plain": [
       "<Figure size 640x480 with 1 Axes>"
      ]
     },
     "metadata": {},
     "output_type": "display_data"
    }
   ],
   "source": [
    "plot_data = crime.groupby('YEAR').count().reset_index()\n",
    "\n",
    "# Create bar plot using Seaborn\n",
    "sns.barplot(data=plot_data, x='YEAR', y='INCIDENT_NUMBER')"
   ]
  },
  {
   "cell_type": "markdown",
   "id": "f3961b37",
   "metadata": {},
   "source": [
    "## Data Visualization\n",
    "Visualizing the data helps us uncover trends, patterns, and outliers. Here, we use Matplotlib and Seaborn for plotting."
   ]
  },
  {
   "cell_type": "code",
   "execution_count": 101,
   "id": "16985c77",
   "metadata": {},
   "outputs": [
    {
     "data": {
      "text/html": [
       "<div>\n",
       "<style scoped>\n",
       "    .dataframe tbody tr th:only-of-type {\n",
       "        vertical-align: middle;\n",
       "    }\n",
       "\n",
       "    .dataframe tbody tr th {\n",
       "        vertical-align: top;\n",
       "    }\n",
       "\n",
       "    .dataframe thead th {\n",
       "        text-align: right;\n",
       "    }\n",
       "</style>\n",
       "<table border=\"1\" class=\"dataframe\">\n",
       "  <thead>\n",
       "    <tr style=\"text-align: right;\">\n",
       "      <th></th>\n",
       "      <th>YEAR</th>\n",
       "      <th>INCIDENT_NUMBER</th>\n",
       "      <th>OFFENSE_CODE</th>\n",
       "      <th>OFFENSE_CODE_GROUP</th>\n",
       "      <th>OFFENSE_DESCRIPTION</th>\n",
       "      <th>DISTRICT</th>\n",
       "      <th>REPORTING_AREA</th>\n",
       "      <th>SHOOTING</th>\n",
       "      <th>OCCURRED_ON_DATE</th>\n",
       "      <th>MONTH</th>\n",
       "      <th>DAY_OF_WEEK</th>\n",
       "      <th>HOUR</th>\n",
       "      <th>UCR_PART</th>\n",
       "      <th>STREET</th>\n",
       "      <th>Lat</th>\n",
       "      <th>Long</th>\n",
       "      <th>Location</th>\n",
       "    </tr>\n",
       "  </thead>\n",
       "  <tbody>\n",
       "    <tr>\n",
       "      <th>0</th>\n",
       "      <td>2015</td>\n",
       "      <td>53371</td>\n",
       "      <td>53371</td>\n",
       "      <td>53371</td>\n",
       "      <td>53371</td>\n",
       "      <td>53243</td>\n",
       "      <td>53371</td>\n",
       "      <td>185</td>\n",
       "      <td>53371</td>\n",
       "      <td>53371</td>\n",
       "      <td>53371</td>\n",
       "      <td>53371</td>\n",
       "      <td>53370</td>\n",
       "      <td>52089</td>\n",
       "      <td>51190</td>\n",
       "      <td>51190</td>\n",
       "      <td>53371</td>\n",
       "    </tr>\n",
       "    <tr>\n",
       "      <th>1</th>\n",
       "      <td>2016</td>\n",
       "      <td>99110</td>\n",
       "      <td>99110</td>\n",
       "      <td>99110</td>\n",
       "      <td>99110</td>\n",
       "      <td>98593</td>\n",
       "      <td>99110</td>\n",
       "      <td>279</td>\n",
       "      <td>99110</td>\n",
       "      <td>99110</td>\n",
       "      <td>99110</td>\n",
       "      <td>99110</td>\n",
       "      <td>99076</td>\n",
       "      <td>93395</td>\n",
       "      <td>92339</td>\n",
       "      <td>92339</td>\n",
       "      <td>99110</td>\n",
       "    </tr>\n",
       "    <tr>\n",
       "      <th>2</th>\n",
       "      <td>2017</td>\n",
       "      <td>100884</td>\n",
       "      <td>100884</td>\n",
       "      <td>100884</td>\n",
       "      <td>100884</td>\n",
       "      <td>100308</td>\n",
       "      <td>100884</td>\n",
       "      <td>370</td>\n",
       "      <td>100884</td>\n",
       "      <td>100884</td>\n",
       "      <td>100884</td>\n",
       "      <td>100884</td>\n",
       "      <td>100845</td>\n",
       "      <td>98153</td>\n",
       "      <td>94059</td>\n",
       "      <td>94059</td>\n",
       "      <td>100884</td>\n",
       "    </tr>\n",
       "    <tr>\n",
       "      <th>3</th>\n",
       "      <td>2018</td>\n",
       "      <td>65685</td>\n",
       "      <td>65685</td>\n",
       "      <td>65685</td>\n",
       "      <td>65685</td>\n",
       "      <td>65141</td>\n",
       "      <td>65685</td>\n",
       "      <td>185</td>\n",
       "      <td>65685</td>\n",
       "      <td>65685</td>\n",
       "      <td>65685</td>\n",
       "      <td>65685</td>\n",
       "      <td>65669</td>\n",
       "      <td>64542</td>\n",
       "      <td>61464</td>\n",
       "      <td>61464</td>\n",
       "      <td>65685</td>\n",
       "    </tr>\n",
       "  </tbody>\n",
       "</table>\n",
       "</div>"
      ],
      "text/plain": [
       "   YEAR  INCIDENT_NUMBER  OFFENSE_CODE  OFFENSE_CODE_GROUP  \\\n",
       "0  2015            53371         53371               53371   \n",
       "1  2016            99110         99110               99110   \n",
       "2  2017           100884        100884              100884   \n",
       "3  2018            65685         65685               65685   \n",
       "\n",
       "   OFFENSE_DESCRIPTION  DISTRICT  REPORTING_AREA  SHOOTING  OCCURRED_ON_DATE  \\\n",
       "0                53371     53243           53371       185             53371   \n",
       "1                99110     98593           99110       279             99110   \n",
       "2               100884    100308          100884       370            100884   \n",
       "3                65685     65141           65685       185             65685   \n",
       "\n",
       "    MONTH  DAY_OF_WEEK    HOUR  UCR_PART  STREET    Lat   Long  Location  \n",
       "0   53371        53371   53371     53370   52089  51190  51190     53371  \n",
       "1   99110        99110   99110     99076   93395  92339  92339     99110  \n",
       "2  100884       100884  100884    100845   98153  94059  94059    100884  \n",
       "3   65685        65685   65685     65669   64542  61464  61464     65685  "
      ]
     },
     "execution_count": 101,
     "metadata": {},
     "output_type": "execute_result"
    }
   ],
   "source": [
    "plot_data"
   ]
  },
  {
   "cell_type": "markdown",
   "id": "266b1058",
   "metadata": {},
   "source": [
    "## Grouping and Aggregation\n",
    "We perform group-by operations to analyze crime patterns over time, by category, or location."
   ]
  },
  {
   "cell_type": "code",
   "execution_count": 105,
   "id": "50f31338",
   "metadata": {},
   "outputs": [
    {
     "data": {
      "text/plain": [
       "YEAR\n",
       "2015     53371\n",
       "2016     99110\n",
       "2017    100884\n",
       "2018     65685\n",
       "Name: INCIDENT_NUMBER, dtype: int64"
      ]
     },
     "execution_count": 105,
     "metadata": {},
     "output_type": "execute_result"
    }
   ],
   "source": [
    "crime.groupby('YEAR')['INCIDENT_NUMBER'].count()"
   ]
  },
  {
   "cell_type": "markdown",
   "id": "638b3b96",
   "metadata": {},
   "source": [
    "## Grouping and Aggregation\n",
    "We perform group-by operations to analyze crime patterns over time, by category, or location."
   ]
  },
  {
   "cell_type": "code",
   "execution_count": 109,
   "id": "446246f9",
   "metadata": {},
   "outputs": [
    {
     "data": {
      "text/plain": [
       "DAY_OF_WEEK\n",
       "Friday       48489\n",
       "Wednesday    46727\n",
       "Thursday     46655\n",
       "Tuesday      46376\n",
       "Monday       45674\n",
       "Saturday     44816\n",
       "Sunday       40313\n",
       "Name: INCIDENT_NUMBER, dtype: int64"
      ]
     },
     "execution_count": 109,
     "metadata": {},
     "output_type": "execute_result"
    }
   ],
   "source": [
    "## What are the days where more crimes are committed?\n",
    "crime.groupby('DAY_OF_WEEK')['INCIDENT_NUMBER'].count().sort_values(ascending=False)"
   ]
  },
  {
   "cell_type": "markdown",
   "id": "8e02a155",
   "metadata": {},
   "source": [
    "## Grouping and Aggregation\n",
    "We perform group-by operations to analyze crime patterns over time, by category, or location."
   ]
  },
  {
   "cell_type": "code",
   "execution_count": 107,
   "id": "49b92e57",
   "metadata": {},
   "outputs": [
    {
     "data": {
      "text/plain": [
       "<AxesSubplot:xlabel='DAY_OF_WEEK'>"
      ]
     },
     "execution_count": 107,
     "metadata": {},
     "output_type": "execute_result"
    },
    {
     "data": {
      "image/png": "[encoded data removed]",
      "text/plain": [
       "<Figure size 640x480 with 1 Axes>"
      ]
     },
     "metadata": {},
     "output_type": "display_data"
    }
   ],
   "source": [
    "## Graphical answer\n",
    "crime.groupby('DAY_OF_WEEK')['INCIDENT_NUMBER'].count().plot(kind='bar')"
   ]
  },
  {
   "cell_type": "markdown",
   "id": "e4501fc3",
   "metadata": {},
   "source": [
    "## Grouping and Aggregation\n",
    "We perform group-by operations to analyze crime patterns over time, by category, or location."
   ]
  },
  {
   "cell_type": "code",
   "execution_count": 110,
   "id": "5483b0c2",
   "metadata": {},
   "outputs": [
    {
     "data": {
      "text/plain": [
       "<AxesSubplot:xlabel='HOUR'>"
      ]
     },
     "execution_count": 110,
     "metadata": {},
     "output_type": "execute_result"
    },
    {
     "data": {
      "image/png": "[encoded data removed]",
      "text/plain": [
       "<Figure size 640x480 with 1 Axes>"
      ]
     },
     "metadata": {},
     "output_type": "display_data"
    }
   ],
   "source": [
    "## Same bu for hours\n",
    "crime.groupby('HOUR')['INCIDENT_NUMBER'].count().plot(kind='bar')"
   ]
  },
  {
   "cell_type": "code",
   "execution_count": 111,
   "id": "a9b18847",
   "metadata": {},
   "outputs": [],
   "source": [
    "## what days and hours are most crime committed"
   ]
  },
  {
   "cell_type": "markdown",
   "id": "ad2b22bd",
   "metadata": {},
   "source": [
    "## Grouping and Aggregation\n",
    "We perform group-by operations to analyze crime patterns over time, by category, or location."
   ]
  },
  {
   "cell_type": "code",
   "execution_count": 121,
   "id": "69b64872",
   "metadata": {},
   "outputs": [],
   "source": [
    "week_hour = crime.groupby(['HOUR','DAY_OF_WEEK'])['INCIDENT_NUMBER'].count().unstack()"
   ]
  },
  {
   "cell_type": "code",
   "execution_count": 125,
   "id": "0cbc203d",
   "metadata": {},
   "outputs": [],
   "source": [
    "week_hour.columns = ['Monday','Tuesday','Wednesday','Thursday','Friday','Saturday','Sunday']"
   ]
  },
  {
   "cell_type": "code",
   "execution_count": 126,
   "id": "dacce71c",
   "metadata": {},
   "outputs": [
    {
     "data": {
      "text/html": [
       "<div>\n",
       "<style scoped>\n",
       "    .dataframe tbody tr th:only-of-type {\n",
       "        vertical-align: middle;\n",
       "    }\n",
       "\n",
       "    .dataframe tbody tr th {\n",
       "        vertical-align: top;\n",
       "    }\n",
       "\n",
       "    .dataframe thead th {\n",
       "        text-align: right;\n",
       "    }\n",
       "</style>\n",
       "<table border=\"1\" class=\"dataframe\">\n",
       "  <thead>\n",
       "    <tr style=\"text-align: right;\">\n",
       "      <th></th>\n",
       "      <th>Monday</th>\n",
       "      <th>Tuesday</th>\n",
       "      <th>Wednesday</th>\n",
       "      <th>Thursday</th>\n",
       "      <th>Friday</th>\n",
       "      <th>Saturday</th>\n",
       "      <th>Sunday</th>\n",
       "    </tr>\n",
       "    <tr>\n",
       "      <th>HOUR</th>\n",
       "      <th></th>\n",
       "      <th></th>\n",
       "      <th></th>\n",
       "      <th></th>\n",
       "      <th></th>\n",
       "      <th></th>\n",
       "      <th></th>\n",
       "    </tr>\n",
       "  </thead>\n",
       "  <tbody>\n",
       "    <tr>\n",
       "      <th>0</th>\n",
       "      <td>2161</td>\n",
       "      <td>2000</td>\n",
       "      <td>2612</td>\n",
       "      <td>2400</td>\n",
       "      <td>2039</td>\n",
       "      <td>1897</td>\n",
       "      <td>1997</td>\n",
       "    </tr>\n",
       "    <tr>\n",
       "      <th>1</th>\n",
       "      <td>1275</td>\n",
       "      <td>1058</td>\n",
       "      <td>1855</td>\n",
       "      <td>2043</td>\n",
       "      <td>1077</td>\n",
       "      <td>1017</td>\n",
       "      <td>942</td>\n",
       "    </tr>\n",
       "    <tr>\n",
       "      <th>2</th>\n",
       "      <td>952</td>\n",
       "      <td>846</td>\n",
       "      <td>1827</td>\n",
       "      <td>1855</td>\n",
       "      <td>774</td>\n",
       "      <td>641</td>\n",
       "      <td>798</td>\n",
       "    </tr>\n",
       "    <tr>\n",
       "      <th>3</th>\n",
       "      <td>532</td>\n",
       "      <td>583</td>\n",
       "      <td>957</td>\n",
       "      <td>1119</td>\n",
       "      <td>526</td>\n",
       "      <td>460</td>\n",
       "      <td>412</td>\n",
       "    </tr>\n",
       "    <tr>\n",
       "      <th>4</th>\n",
       "      <td>441</td>\n",
       "      <td>386</td>\n",
       "      <td>672</td>\n",
       "      <td>704</td>\n",
       "      <td>436</td>\n",
       "      <td>399</td>\n",
       "      <td>370</td>\n",
       "    </tr>\n",
       "    <tr>\n",
       "      <th>5</th>\n",
       "      <td>485</td>\n",
       "      <td>417</td>\n",
       "      <td>478</td>\n",
       "      <td>517</td>\n",
       "      <td>508</td>\n",
       "      <td>462</td>\n",
       "      <td>444</td>\n",
       "    </tr>\n",
       "    <tr>\n",
       "      <th>6</th>\n",
       "      <td>768</td>\n",
       "      <td>709</td>\n",
       "      <td>530</td>\n",
       "      <td>543</td>\n",
       "      <td>866</td>\n",
       "      <td>787</td>\n",
       "      <td>823</td>\n",
       "    </tr>\n",
       "    <tr>\n",
       "      <th>7</th>\n",
       "      <td>1398</td>\n",
       "      <td>1352</td>\n",
       "      <td>1078</td>\n",
       "      <td>758</td>\n",
       "      <td>1405</td>\n",
       "      <td>1418</td>\n",
       "      <td>1441</td>\n",
       "    </tr>\n",
       "    <tr>\n",
       "      <th>8</th>\n",
       "      <td>2041</td>\n",
       "      <td>2046</td>\n",
       "      <td>1515</td>\n",
       "      <td>1123</td>\n",
       "      <td>2037</td>\n",
       "      <td>2145</td>\n",
       "      <td>2135</td>\n",
       "    </tr>\n",
       "    <tr>\n",
       "      <th>9</th>\n",
       "      <td>2299</td>\n",
       "      <td>2148</td>\n",
       "      <td>1812</td>\n",
       "      <td>1457</td>\n",
       "      <td>2325</td>\n",
       "      <td>2322</td>\n",
       "      <td>2377</td>\n",
       "    </tr>\n",
       "    <tr>\n",
       "      <th>10</th>\n",
       "      <td>2668</td>\n",
       "      <td>2432</td>\n",
       "      <td>2064</td>\n",
       "      <td>1778</td>\n",
       "      <td>2496</td>\n",
       "      <td>2414</td>\n",
       "      <td>2493</td>\n",
       "    </tr>\n",
       "    <tr>\n",
       "      <th>11</th>\n",
       "      <td>2552</td>\n",
       "      <td>2373</td>\n",
       "      <td>2042</td>\n",
       "      <td>1802</td>\n",
       "      <td>2548</td>\n",
       "      <td>2529</td>\n",
       "      <td>2599</td>\n",
       "    </tr>\n",
       "    <tr>\n",
       "      <th>12</th>\n",
       "      <td>2860</td>\n",
       "      <td>2746</td>\n",
       "      <td>2588</td>\n",
       "      <td>2135</td>\n",
       "      <td>2821</td>\n",
       "      <td>2681</td>\n",
       "      <td>2845</td>\n",
       "    </tr>\n",
       "    <tr>\n",
       "      <th>13</th>\n",
       "      <td>2499</td>\n",
       "      <td>2479</td>\n",
       "      <td>2223</td>\n",
       "      <td>1980</td>\n",
       "      <td>2576</td>\n",
       "      <td>2493</td>\n",
       "      <td>2595</td>\n",
       "    </tr>\n",
       "    <tr>\n",
       "      <th>14</th>\n",
       "      <td>2601</td>\n",
       "      <td>2485</td>\n",
       "      <td>2378</td>\n",
       "      <td>2029</td>\n",
       "      <td>2536</td>\n",
       "      <td>2555</td>\n",
       "      <td>2605</td>\n",
       "    </tr>\n",
       "    <tr>\n",
       "      <th>15</th>\n",
       "      <td>2566</td>\n",
       "      <td>2438</td>\n",
       "      <td>2084</td>\n",
       "      <td>1918</td>\n",
       "      <td>2531</td>\n",
       "      <td>2503</td>\n",
       "      <td>2479</td>\n",
       "    </tr>\n",
       "    <tr>\n",
       "      <th>16</th>\n",
       "      <td>3073</td>\n",
       "      <td>3029</td>\n",
       "      <td>2445</td>\n",
       "      <td>2216</td>\n",
       "      <td>2974</td>\n",
       "      <td>3080</td>\n",
       "      <td>3053</td>\n",
       "    </tr>\n",
       "    <tr>\n",
       "      <th>17</th>\n",
       "      <td>3252</td>\n",
       "      <td>3253</td>\n",
       "      <td>2555</td>\n",
       "      <td>2377</td>\n",
       "      <td>2931</td>\n",
       "      <td>3241</td>\n",
       "      <td>3153</td>\n",
       "    </tr>\n",
       "    <tr>\n",
       "      <th>18</th>\n",
       "      <td>3010</td>\n",
       "      <td>3089</td>\n",
       "      <td>2528</td>\n",
       "      <td>2326</td>\n",
       "      <td>3033</td>\n",
       "      <td>3217</td>\n",
       "      <td>3098</td>\n",
       "    </tr>\n",
       "    <tr>\n",
       "      <th>19</th>\n",
       "      <td>2564</td>\n",
       "      <td>2606</td>\n",
       "      <td>2301</td>\n",
       "      <td>2114</td>\n",
       "      <td>2510</td>\n",
       "      <td>2768</td>\n",
       "      <td>2724</td>\n",
       "    </tr>\n",
       "    <tr>\n",
       "      <th>20</th>\n",
       "      <td>2307</td>\n",
       "      <td>2319</td>\n",
       "      <td>2131</td>\n",
       "      <td>2109</td>\n",
       "      <td>2349</td>\n",
       "      <td>2369</td>\n",
       "      <td>2265</td>\n",
       "    </tr>\n",
       "    <tr>\n",
       "      <th>21</th>\n",
       "      <td>2089</td>\n",
       "      <td>2003</td>\n",
       "      <td>2077</td>\n",
       "      <td>1902</td>\n",
       "      <td>2070</td>\n",
       "      <td>1925</td>\n",
       "      <td>2043</td>\n",
       "    </tr>\n",
       "    <tr>\n",
       "      <th>22</th>\n",
       "      <td>2160</td>\n",
       "      <td>1634</td>\n",
       "      <td>2113</td>\n",
       "      <td>1728</td>\n",
       "      <td>1795</td>\n",
       "      <td>1757</td>\n",
       "      <td>1738</td>\n",
       "    </tr>\n",
       "    <tr>\n",
       "      <th>23</th>\n",
       "      <td>1936</td>\n",
       "      <td>1243</td>\n",
       "      <td>1951</td>\n",
       "      <td>1380</td>\n",
       "      <td>1492</td>\n",
       "      <td>1296</td>\n",
       "      <td>1298</td>\n",
       "    </tr>\n",
       "  </tbody>\n",
       "</table>\n",
       "</div>"
      ],
      "text/plain": [
       "      Monday  Tuesday  Wednesday  Thursday  Friday  Saturday  Sunday\n",
       "HOUR                                                                \n",
       "0       2161     2000       2612      2400    2039      1897    1997\n",
       "1       1275     1058       1855      2043    1077      1017     942\n",
       "2        952      846       1827      1855     774       641     798\n",
       "3        532      583        957      1119     526       460     412\n",
       "4        441      386        672       704     436       399     370\n",
       "5        485      417        478       517     508       462     444\n",
       "6        768      709        530       543     866       787     823\n",
       "7       1398     1352       1078       758    1405      1418    1441\n",
       "8       2041     2046       1515      1123    2037      2145    2135\n",
       "9       2299     2148       1812      1457    2325      2322    2377\n",
       "10      2668     2432       2064      1778    2496      2414    2493\n",
       "11      2552     2373       2042      1802    2548      2529    2599\n",
       "12      2860     2746       2588      2135    2821      2681    2845\n",
       "13      2499     2479       2223      1980    2576      2493    2595\n",
       "14      2601     2485       2378      2029    2536      2555    2605\n",
       "15      2566     2438       2084      1918    2531      2503    2479\n",
       "16      3073     3029       2445      2216    2974      3080    3053\n",
       "17      3252     3253       2555      2377    2931      3241    3153\n",
       "18      3010     3089       2528      2326    3033      3217    3098\n",
       "19      2564     2606       2301      2114    2510      2768    2724\n",
       "20      2307     2319       2131      2109    2349      2369    2265\n",
       "21      2089     2003       2077      1902    2070      1925    2043\n",
       "22      2160     1634       2113      1728    1795      1757    1738\n",
       "23      1936     1243       1951      1380    1492      1296    1298"
      ]
     },
     "execution_count": 126,
     "metadata": {},
     "output_type": "execute_result"
    }
   ],
   "source": [
    "week_hour"
   ]
  },
  {
   "cell_type": "code",
   "execution_count": 127,
   "id": "6d5be769",
   "metadata": {},
   "outputs": [
    {
     "data": {
      "text/plain": [
       "<AxesSubplot:ylabel='HOUR'>"
      ]
     },
     "execution_count": 127,
     "metadata": {},
     "output_type": "execute_result"
    },
    {
     "data": {
      "image/png": "[encoded data removed]",
      "text/plain": [
       "<Figure size 640x480 with 2 Axes>"
      ]
     },
     "metadata": {},
     "output_type": "display_data"
    }
   ],
   "source": [
    "## heatmap answering question\n",
    "sns.heatmap(data=week_hour,cmap='viridis')"
   ]
  },
  {
   "cell_type": "code",
   "execution_count": 128,
   "id": "06bd68e5",
   "metadata": {},
   "outputs": [],
   "source": [
    "## In which months were the number of crimes below average?\n",
    "## In which months on average did the most crimes occur?"
   ]
  },
  {
   "cell_type": "markdown",
   "id": "3cd0359a",
   "metadata": {},
   "source": [
    "## Grouping and Aggregation\n",
    "We perform group-by operations to analyze crime patterns over time, by category, or location."
   ]
  },
  {
   "cell_type": "code",
   "execution_count": 132,
   "id": "9dd7ad87",
   "metadata": {},
   "outputs": [
    {
     "data": {
      "text/plain": [
       "YEAR  MONTH\n",
       "2015  6        4188\n",
       "      7        8322\n",
       "      8        8340\n",
       "      9        8411\n",
       "      10       8305\n",
       "      11       7818\n",
       "      12       7987\n",
       "2016  1        7835\n",
       "      2        7307\n",
       "      3        8199\n",
       "      4        8101\n",
       "      5        8578\n",
       "      6        8558\n",
       "      7        8618\n",
       "      8        8938\n",
       "      9        8521\n",
       "      10       8582\n",
       "      11       7922\n",
       "      12       7951\n",
       "2017  1        7991\n",
       "      2        7408\n",
       "      3        8179\n",
       "      4        8069\n",
       "      5        8715\n",
       "      6        8985\n",
       "      7        9075\n",
       "      8        9206\n",
       "      9        8940\n",
       "      10       8846\n",
       "      11       7935\n",
       "      12       7535\n",
       "2018  1        7782\n",
       "      2        6937\n",
       "      3        7768\n",
       "      4        7916\n",
       "      5        8906\n",
       "      6        8834\n",
       "      7        8538\n",
       "      8        8337\n",
       "      9         667\n",
       "Name: INCIDENT_NUMBER, dtype: int64"
      ]
     },
     "execution_count": 132,
     "metadata": {},
     "output_type": "execute_result"
    }
   ],
   "source": [
    "crime.groupby(['YEAR','MONTH'])['INCIDENT_NUMBER'].count()"
   ]
  },
  {
   "cell_type": "code",
   "execution_count": 133,
   "id": "abfc44e4",
   "metadata": {},
   "outputs": [
    {
     "data": {
      "text/html": [
       "<div>\n",
       "<style scoped>\n",
       "    .dataframe tbody tr th:only-of-type {\n",
       "        vertical-align: middle;\n",
       "    }\n",
       "\n",
       "    .dataframe tbody tr th {\n",
       "        vertical-align: top;\n",
       "    }\n",
       "\n",
       "    .dataframe thead th {\n",
       "        text-align: right;\n",
       "    }\n",
       "</style>\n",
       "<table border=\"1\" class=\"dataframe\">\n",
       "  <thead>\n",
       "    <tr style=\"text-align: right;\">\n",
       "      <th></th>\n",
       "      <th>INCIDENT_NUMBER</th>\n",
       "      <th>OFFENSE_CODE</th>\n",
       "      <th>OFFENSE_CODE_GROUP</th>\n",
       "      <th>OFFENSE_DESCRIPTION</th>\n",
       "      <th>DISTRICT</th>\n",
       "      <th>REPORTING_AREA</th>\n",
       "      <th>SHOOTING</th>\n",
       "      <th>OCCURRED_ON_DATE</th>\n",
       "      <th>YEAR</th>\n",
       "      <th>MONTH</th>\n",
       "      <th>DAY_OF_WEEK</th>\n",
       "      <th>HOUR</th>\n",
       "      <th>UCR_PART</th>\n",
       "      <th>STREET</th>\n",
       "      <th>Lat</th>\n",
       "      <th>Long</th>\n",
       "      <th>Location</th>\n",
       "    </tr>\n",
       "  </thead>\n",
       "  <tbody>\n",
       "    <tr>\n",
       "      <th>0</th>\n",
       "      <td>I182070945</td>\n",
       "      <td>619</td>\n",
       "      <td>Larceny</td>\n",
       "      <td>LARCENY ALL OTHERS</td>\n",
       "      <td>D14</td>\n",
       "      <td>808</td>\n",
       "      <td>NaN</td>\n",
       "      <td>2018-09-02 13:00:00</td>\n",
       "      <td>2018</td>\n",
       "      <td>9</td>\n",
       "      <td>Sunday</td>\n",
       "      <td>13</td>\n",
       "      <td>Part One</td>\n",
       "      <td>LINCOLN ST</td>\n",
       "      <td>42.357791</td>\n",
       "      <td>-71.139371</td>\n",
       "      <td>(42.35779134, -71.13937053)</td>\n",
       "    </tr>\n",
       "    <tr>\n",
       "      <th>1</th>\n",
       "      <td>I182070943</td>\n",
       "      <td>1402</td>\n",
       "      <td>Vandalism</td>\n",
       "      <td>VANDALISM</td>\n",
       "      <td>C11</td>\n",
       "      <td>347</td>\n",
       "      <td>NaN</td>\n",
       "      <td>2018-08-21 00:00:00</td>\n",
       "      <td>2018</td>\n",
       "      <td>8</td>\n",
       "      <td>Tuesday</td>\n",
       "      <td>0</td>\n",
       "      <td>Part Two</td>\n",
       "      <td>HECLA ST</td>\n",
       "      <td>42.306821</td>\n",
       "      <td>-71.060300</td>\n",
       "      <td>(42.30682138, -71.06030035)</td>\n",
       "    </tr>\n",
       "    <tr>\n",
       "      <th>2</th>\n",
       "      <td>I182070941</td>\n",
       "      <td>3410</td>\n",
       "      <td>Towed</td>\n",
       "      <td>TOWED MOTOR VEHICLE</td>\n",
       "      <td>D4</td>\n",
       "      <td>151</td>\n",
       "      <td>NaN</td>\n",
       "      <td>2018-09-03 19:27:00</td>\n",
       "      <td>2018</td>\n",
       "      <td>9</td>\n",
       "      <td>Monday</td>\n",
       "      <td>19</td>\n",
       "      <td>Part Three</td>\n",
       "      <td>CAZENOVE ST</td>\n",
       "      <td>42.346589</td>\n",
       "      <td>-71.072429</td>\n",
       "      <td>(42.34658879, -71.07242943)</td>\n",
       "    </tr>\n",
       "    <tr>\n",
       "      <th>3</th>\n",
       "      <td>I182070940</td>\n",
       "      <td>3114</td>\n",
       "      <td>Investigate Property</td>\n",
       "      <td>INVESTIGATE PROPERTY</td>\n",
       "      <td>D4</td>\n",
       "      <td>272</td>\n",
       "      <td>NaN</td>\n",
       "      <td>2018-09-03 21:16:00</td>\n",
       "      <td>2018</td>\n",
       "      <td>9</td>\n",
       "      <td>Monday</td>\n",
       "      <td>21</td>\n",
       "      <td>Part Three</td>\n",
       "      <td>NEWCOMB ST</td>\n",
       "      <td>42.334182</td>\n",
       "      <td>-71.078664</td>\n",
       "      <td>(42.33418175, -71.07866441)</td>\n",
       "    </tr>\n",
       "    <tr>\n",
       "      <th>4</th>\n",
       "      <td>I182070938</td>\n",
       "      <td>3114</td>\n",
       "      <td>Investigate Property</td>\n",
       "      <td>INVESTIGATE PROPERTY</td>\n",
       "      <td>B3</td>\n",
       "      <td>421</td>\n",
       "      <td>NaN</td>\n",
       "      <td>2018-09-03 21:05:00</td>\n",
       "      <td>2018</td>\n",
       "      <td>9</td>\n",
       "      <td>Monday</td>\n",
       "      <td>21</td>\n",
       "      <td>Part Three</td>\n",
       "      <td>DELHI ST</td>\n",
       "      <td>42.275365</td>\n",
       "      <td>-71.090361</td>\n",
       "      <td>(42.27536542, -71.09036101)</td>\n",
       "    </tr>\n",
       "    <tr>\n",
       "      <th>...</th>\n",
       "      <td>...</td>\n",
       "      <td>...</td>\n",
       "      <td>...</td>\n",
       "      <td>...</td>\n",
       "      <td>...</td>\n",
       "      <td>...</td>\n",
       "      <td>...</td>\n",
       "      <td>...</td>\n",
       "      <td>...</td>\n",
       "      <td>...</td>\n",
       "      <td>...</td>\n",
       "      <td>...</td>\n",
       "      <td>...</td>\n",
       "      <td>...</td>\n",
       "      <td>...</td>\n",
       "      <td>...</td>\n",
       "      <td>...</td>\n",
       "    </tr>\n",
       "    <tr>\n",
       "      <th>319068</th>\n",
       "      <td>I050310906-00</td>\n",
       "      <td>3125</td>\n",
       "      <td>Warrant Arrests</td>\n",
       "      <td>WARRANT ARREST</td>\n",
       "      <td>D4</td>\n",
       "      <td>285</td>\n",
       "      <td>NaN</td>\n",
       "      <td>2016-06-05 17:25:00</td>\n",
       "      <td>2016</td>\n",
       "      <td>6</td>\n",
       "      <td>Sunday</td>\n",
       "      <td>17</td>\n",
       "      <td>Part Three</td>\n",
       "      <td>COVENTRY ST</td>\n",
       "      <td>42.336951</td>\n",
       "      <td>-71.085748</td>\n",
       "      <td>(42.33695098, -71.08574813)</td>\n",
       "    </tr>\n",
       "    <tr>\n",
       "      <th>319069</th>\n",
       "      <td>I030217815-08</td>\n",
       "      <td>111</td>\n",
       "      <td>Homicide</td>\n",
       "      <td>MURDER, NON-NEGLIGIENT MANSLAUGHTER</td>\n",
       "      <td>E18</td>\n",
       "      <td>520</td>\n",
       "      <td>NaN</td>\n",
       "      <td>2015-07-09 13:38:00</td>\n",
       "      <td>2015</td>\n",
       "      <td>7</td>\n",
       "      <td>Thursday</td>\n",
       "      <td>13</td>\n",
       "      <td>Part One</td>\n",
       "      <td>RIVER ST</td>\n",
       "      <td>42.255926</td>\n",
       "      <td>-71.123172</td>\n",
       "      <td>(42.25592648, -71.12317207)</td>\n",
       "    </tr>\n",
       "    <tr>\n",
       "      <th>319070</th>\n",
       "      <td>I030217815-08</td>\n",
       "      <td>3125</td>\n",
       "      <td>Warrant Arrests</td>\n",
       "      <td>WARRANT ARREST</td>\n",
       "      <td>E18</td>\n",
       "      <td>520</td>\n",
       "      <td>NaN</td>\n",
       "      <td>2015-07-09 13:38:00</td>\n",
       "      <td>2015</td>\n",
       "      <td>7</td>\n",
       "      <td>Thursday</td>\n",
       "      <td>13</td>\n",
       "      <td>Part Three</td>\n",
       "      <td>RIVER ST</td>\n",
       "      <td>42.255926</td>\n",
       "      <td>-71.123172</td>\n",
       "      <td>(42.25592648, -71.12317207)</td>\n",
       "    </tr>\n",
       "    <tr>\n",
       "      <th>319071</th>\n",
       "      <td>I010370257-00</td>\n",
       "      <td>3125</td>\n",
       "      <td>Warrant Arrests</td>\n",
       "      <td>WARRANT ARREST</td>\n",
       "      <td>E13</td>\n",
       "      <td>569</td>\n",
       "      <td>NaN</td>\n",
       "      <td>2016-05-31 19:35:00</td>\n",
       "      <td>2016</td>\n",
       "      <td>5</td>\n",
       "      <td>Tuesday</td>\n",
       "      <td>19</td>\n",
       "      <td>Part Three</td>\n",
       "      <td>NEW WASHINGTON ST</td>\n",
       "      <td>42.302333</td>\n",
       "      <td>-71.111565</td>\n",
       "      <td>(42.30233307, -71.11156487)</td>\n",
       "    </tr>\n",
       "    <tr>\n",
       "      <th>319072</th>\n",
       "      <td>142052550</td>\n",
       "      <td>3125</td>\n",
       "      <td>Warrant Arrests</td>\n",
       "      <td>WARRANT ARREST</td>\n",
       "      <td>D4</td>\n",
       "      <td>903</td>\n",
       "      <td>NaN</td>\n",
       "      <td>2015-06-22 00:12:00</td>\n",
       "      <td>2015</td>\n",
       "      <td>6</td>\n",
       "      <td>Monday</td>\n",
       "      <td>0</td>\n",
       "      <td>Part Three</td>\n",
       "      <td>WASHINGTON ST</td>\n",
       "      <td>42.333839</td>\n",
       "      <td>-71.080290</td>\n",
       "      <td>(42.33383935, -71.08029038)</td>\n",
       "    </tr>\n",
       "  </tbody>\n",
       "</table>\n",
       "<p>319050 rows × 17 columns</p>\n",
       "</div>"
      ],
      "text/plain": [
       "       INCIDENT_NUMBER  OFFENSE_CODE    OFFENSE_CODE_GROUP  \\\n",
       "0           I182070945           619               Larceny   \n",
       "1           I182070943          1402             Vandalism   \n",
       "2           I182070941          3410                 Towed   \n",
       "3           I182070940          3114  Investigate Property   \n",
       "4           I182070938          3114  Investigate Property   \n",
       "...                ...           ...                   ...   \n",
       "319068   I050310906-00          3125       Warrant Arrests   \n",
       "319069   I030217815-08           111              Homicide   \n",
       "319070   I030217815-08          3125       Warrant Arrests   \n",
       "319071   I010370257-00          3125       Warrant Arrests   \n",
       "319072       142052550          3125       Warrant Arrests   \n",
       "\n",
       "                        OFFENSE_DESCRIPTION DISTRICT REPORTING_AREA SHOOTING  \\\n",
       "0                        LARCENY ALL OTHERS      D14            808      NaN   \n",
       "1                                 VANDALISM      C11            347      NaN   \n",
       "2                       TOWED MOTOR VEHICLE       D4            151      NaN   \n",
       "3                      INVESTIGATE PROPERTY       D4            272      NaN   \n",
       "4                      INVESTIGATE PROPERTY       B3            421      NaN   \n",
       "...                                     ...      ...            ...      ...   \n",
       "319068                       WARRANT ARREST       D4            285      NaN   \n",
       "319069  MURDER, NON-NEGLIGIENT MANSLAUGHTER      E18            520      NaN   \n",
       "319070                       WARRANT ARREST      E18            520      NaN   \n",
       "319071                       WARRANT ARREST      E13            569      NaN   \n",
       "319072                       WARRANT ARREST       D4            903      NaN   \n",
       "\n",
       "          OCCURRED_ON_DATE  YEAR  MONTH DAY_OF_WEEK  HOUR    UCR_PART  \\\n",
       "0      2018-09-02 13:00:00  2018      9      Sunday    13    Part One   \n",
       "1      2018-08-21 00:00:00  2018      8     Tuesday     0    Part Two   \n",
       "2      2018-09-03 19:27:00  2018      9      Monday    19  Part Three   \n",
       "3      2018-09-03 21:16:00  2018      9      Monday    21  Part Three   \n",
       "4      2018-09-03 21:05:00  2018      9      Monday    21  Part Three   \n",
       "...                    ...   ...    ...         ...   ...         ...   \n",
       "319068 2016-06-05 17:25:00  2016      6      Sunday    17  Part Three   \n",
       "319069 2015-07-09 13:38:00  2015      7    Thursday    13    Part One   \n",
       "319070 2015-07-09 13:38:00  2015      7    Thursday    13  Part Three   \n",
       "319071 2016-05-31 19:35:00  2016      5     Tuesday    19  Part Three   \n",
       "319072 2015-06-22 00:12:00  2015      6      Monday     0  Part Three   \n",
       "\n",
       "                   STREET        Lat       Long                     Location  \n",
       "0              LINCOLN ST  42.357791 -71.139371  (42.35779134, -71.13937053)  \n",
       "1                HECLA ST  42.306821 -71.060300  (42.30682138, -71.06030035)  \n",
       "2             CAZENOVE ST  42.346589 -71.072429  (42.34658879, -71.07242943)  \n",
       "3              NEWCOMB ST  42.334182 -71.078664  (42.33418175, -71.07866441)  \n",
       "4                DELHI ST  42.275365 -71.090361  (42.27536542, -71.09036101)  \n",
       "...                   ...        ...        ...                          ...  \n",
       "319068        COVENTRY ST  42.336951 -71.085748  (42.33695098, -71.08574813)  \n",
       "319069           RIVER ST  42.255926 -71.123172  (42.25592648, -71.12317207)  \n",
       "319070           RIVER ST  42.255926 -71.123172  (42.25592648, -71.12317207)  \n",
       "319071  NEW WASHINGTON ST  42.302333 -71.111565  (42.30233307, -71.11156487)  \n",
       "319072      WASHINGTON ST  42.333839 -71.080290  (42.33383935, -71.08029038)  \n",
       "\n",
       "[319050 rows x 17 columns]"
      ]
     },
     "execution_count": 133,
     "metadata": {},
     "output_type": "execute_result"
    }
   ],
   "source": [
    "crime"
   ]
  },
  {
   "cell_type": "markdown",
   "id": "4635838c",
   "metadata": {},
   "source": [
    "## Grouping and Aggregation\n",
    "We perform group-by operations to analyze crime patterns over time, by category, or location."
   ]
  },
  {
   "cell_type": "code",
   "execution_count": 137,
   "id": "9660b2a8",
   "metadata": {},
   "outputs": [],
   "source": [
    "avg_crime = crime.groupby(['YEAR','MONTH']).count()['INCIDENT_NUMBER'].mean()"
   ]
  },
  {
   "cell_type": "code",
   "execution_count": 138,
   "id": "954e9a97",
   "metadata": {},
   "outputs": [
    {
     "data": {
      "text/plain": [
       "7976.25"
      ]
     },
     "execution_count": 138,
     "metadata": {},
     "output_type": "execute_result"
    }
   ],
   "source": [
    "avg_crime"
   ]
  },
  {
   "cell_type": "markdown",
   "id": "5a3370fb",
   "metadata": {},
   "source": [
    "## Grouping and Aggregation\n",
    "We perform group-by operations to analyze crime patterns over time, by category, or location."
   ]
  },
  {
   "cell_type": "code",
   "execution_count": 139,
   "id": "939b6b58",
   "metadata": {},
   "outputs": [],
   "source": [
    "year_month = crime.groupby(['YEAR','MONTH']).count()['INCIDENT_NUMBER'].unstack()"
   ]
  },
  {
   "cell_type": "code",
   "execution_count": 140,
   "id": "9bf283f3",
   "metadata": {},
   "outputs": [
    {
     "data": {
      "text/html": [
       "<div>\n",
       "<style scoped>\n",
       "    .dataframe tbody tr th:only-of-type {\n",
       "        vertical-align: middle;\n",
       "    }\n",
       "\n",
       "    .dataframe tbody tr th {\n",
       "        vertical-align: top;\n",
       "    }\n",
       "\n",
       "    .dataframe thead th {\n",
       "        text-align: right;\n",
       "    }\n",
       "</style>\n",
       "<table border=\"1\" class=\"dataframe\">\n",
       "  <thead>\n",
       "    <tr style=\"text-align: right;\">\n",
       "      <th>MONTH</th>\n",
       "      <th>1</th>\n",
       "      <th>2</th>\n",
       "      <th>3</th>\n",
       "      <th>4</th>\n",
       "      <th>5</th>\n",
       "      <th>6</th>\n",
       "      <th>7</th>\n",
       "      <th>8</th>\n",
       "      <th>9</th>\n",
       "      <th>10</th>\n",
       "      <th>11</th>\n",
       "      <th>12</th>\n",
       "    </tr>\n",
       "    <tr>\n",
       "      <th>YEAR</th>\n",
       "      <th></th>\n",
       "      <th></th>\n",
       "      <th></th>\n",
       "      <th></th>\n",
       "      <th></th>\n",
       "      <th></th>\n",
       "      <th></th>\n",
       "      <th></th>\n",
       "      <th></th>\n",
       "      <th></th>\n",
       "      <th></th>\n",
       "      <th></th>\n",
       "    </tr>\n",
       "  </thead>\n",
       "  <tbody>\n",
       "    <tr>\n",
       "      <th>2015</th>\n",
       "      <td>NaN</td>\n",
       "      <td>NaN</td>\n",
       "      <td>NaN</td>\n",
       "      <td>NaN</td>\n",
       "      <td>NaN</td>\n",
       "      <td>4188.0</td>\n",
       "      <td>8322.0</td>\n",
       "      <td>8340.0</td>\n",
       "      <td>8411.0</td>\n",
       "      <td>8305.0</td>\n",
       "      <td>7818.0</td>\n",
       "      <td>7987.0</td>\n",
       "    </tr>\n",
       "    <tr>\n",
       "      <th>2016</th>\n",
       "      <td>7835.0</td>\n",
       "      <td>7307.0</td>\n",
       "      <td>8199.0</td>\n",
       "      <td>8101.0</td>\n",
       "      <td>8578.0</td>\n",
       "      <td>8558.0</td>\n",
       "      <td>8618.0</td>\n",
       "      <td>8938.0</td>\n",
       "      <td>8521.0</td>\n",
       "      <td>8582.0</td>\n",
       "      <td>7922.0</td>\n",
       "      <td>7951.0</td>\n",
       "    </tr>\n",
       "    <tr>\n",
       "      <th>2017</th>\n",
       "      <td>7991.0</td>\n",
       "      <td>7408.0</td>\n",
       "      <td>8179.0</td>\n",
       "      <td>8069.0</td>\n",
       "      <td>8715.0</td>\n",
       "      <td>8985.0</td>\n",
       "      <td>9075.0</td>\n",
       "      <td>9206.0</td>\n",
       "      <td>8940.0</td>\n",
       "      <td>8846.0</td>\n",
       "      <td>7935.0</td>\n",
       "      <td>7535.0</td>\n",
       "    </tr>\n",
       "    <tr>\n",
       "      <th>2018</th>\n",
       "      <td>7782.0</td>\n",
       "      <td>6937.0</td>\n",
       "      <td>7768.0</td>\n",
       "      <td>7916.0</td>\n",
       "      <td>8906.0</td>\n",
       "      <td>8834.0</td>\n",
       "      <td>8538.0</td>\n",
       "      <td>8337.0</td>\n",
       "      <td>667.0</td>\n",
       "      <td>NaN</td>\n",
       "      <td>NaN</td>\n",
       "      <td>NaN</td>\n",
       "    </tr>\n",
       "  </tbody>\n",
       "</table>\n",
       "</div>"
      ],
      "text/plain": [
       "MONTH      1       2       3       4       5       6       7       8       9   \\\n",
       "YEAR                                                                            \n",
       "2015      NaN     NaN     NaN     NaN     NaN  4188.0  8322.0  8340.0  8411.0   \n",
       "2016   7835.0  7307.0  8199.0  8101.0  8578.0  8558.0  8618.0  8938.0  8521.0   \n",
       "2017   7991.0  7408.0  8179.0  8069.0  8715.0  8985.0  9075.0  9206.0  8940.0   \n",
       "2018   7782.0  6937.0  7768.0  7916.0  8906.0  8834.0  8538.0  8337.0   667.0   \n",
       "\n",
       "MONTH      10      11      12  \n",
       "YEAR                           \n",
       "2015   8305.0  7818.0  7987.0  \n",
       "2016   8582.0  7922.0  7951.0  \n",
       "2017   8846.0  7935.0  7535.0  \n",
       "2018      NaN     NaN     NaN  "
      ]
     },
     "execution_count": 140,
     "metadata": {},
     "output_type": "execute_result"
    }
   ],
   "source": [
    "year_month"
   ]
  },
  {
   "cell_type": "code",
   "execution_count": 141,
   "id": "b62a848c",
   "metadata": {},
   "outputs": [],
   "source": [
    "def highlight_above_avg(val):\n",
    "    avg = avg_crime ## average value\n",
    "    return'background-color: yellow' if val > avg else ''"
   ]
  },
  {
   "cell_type": "code",
   "execution_count": 143,
   "id": "b3d1c9f7",
   "metadata": {},
   "outputs": [],
   "source": [
    "styled_df = year_month.style.applymap(highlight_above_avg)"
   ]
  },
  {
   "cell_type": "code",
   "execution_count": 144,
   "id": "57ee26a4",
   "metadata": {},
   "outputs": [
    {
     "data": {
      "text/html": [
       "<style type=\"text/css\">\n",
       "#T_3422e_row0_col6, #T_3422e_row0_col7, #T_3422e_row0_col8, #T_3422e_row0_col9, #T_3422e_row0_col11, #T_3422e_row1_col2, #T_3422e_row1_col3, #T_3422e_row1_col4, #T_3422e_row1_col5, #T_3422e_row1_col6, #T_3422e_row1_col7, #T_3422e_row1_col8, #T_3422e_row1_col9, #T_3422e_row2_col0, #T_3422e_row2_col2, #T_3422e_row2_col3, #T_3422e_row2_col4, #T_3422e_row2_col5, #T_3422e_row2_col6, #T_3422e_row2_col7, #T_3422e_row2_col8, #T_3422e_row2_col9, #T_3422e_row3_col4, #T_3422e_row3_col5, #T_3422e_row3_col6, #T_3422e_row3_col7 {\n",
       "  background-color: yellow;\n",
       "}\n",
       "</style>\n",
       "<table id=\"T_3422e\">\n",
       "  <thead>\n",
       "    <tr>\n",
       "      <th class=\"index_name level0\" >MONTH</th>\n",
       "      <th id=\"T_3422e_level0_col0\" class=\"col_heading level0 col0\" >1</th>\n",
       "      <th id=\"T_3422e_level0_col1\" class=\"col_heading level0 col1\" >2</th>\n",
       "      <th id=\"T_3422e_level0_col2\" class=\"col_heading level0 col2\" >3</th>\n",
       "      <th id=\"T_3422e_level0_col3\" class=\"col_heading level0 col3\" >4</th>\n",
       "      <th id=\"T_3422e_level0_col4\" class=\"col_heading level0 col4\" >5</th>\n",
       "      <th id=\"T_3422e_level0_col5\" class=\"col_heading level0 col5\" >6</th>\n",
       "      <th id=\"T_3422e_level0_col6\" class=\"col_heading level0 col6\" >7</th>\n",
       "      <th id=\"T_3422e_level0_col7\" class=\"col_heading level0 col7\" >8</th>\n",
       "      <th id=\"T_3422e_level0_col8\" class=\"col_heading level0 col8\" >9</th>\n",
       "      <th id=\"T_3422e_level0_col9\" class=\"col_heading level0 col9\" >10</th>\n",
       "      <th id=\"T_3422e_level0_col10\" class=\"col_heading level0 col10\" >11</th>\n",
       "      <th id=\"T_3422e_level0_col11\" class=\"col_heading level0 col11\" >12</th>\n",
       "    </tr>\n",
       "    <tr>\n",
       "      <th class=\"index_name level0\" >YEAR</th>\n",
       "      <th class=\"blank col0\" >&nbsp;</th>\n",
       "      <th class=\"blank col1\" >&nbsp;</th>\n",
       "      <th class=\"blank col2\" >&nbsp;</th>\n",
       "      <th class=\"blank col3\" >&nbsp;</th>\n",
       "      <th class=\"blank col4\" >&nbsp;</th>\n",
       "      <th class=\"blank col5\" >&nbsp;</th>\n",
       "      <th class=\"blank col6\" >&nbsp;</th>\n",
       "      <th class=\"blank col7\" >&nbsp;</th>\n",
       "      <th class=\"blank col8\" >&nbsp;</th>\n",
       "      <th class=\"blank col9\" >&nbsp;</th>\n",
       "      <th class=\"blank col10\" >&nbsp;</th>\n",
       "      <th class=\"blank col11\" >&nbsp;</th>\n",
       "    </tr>\n",
       "  </thead>\n",
       "  <tbody>\n",
       "    <tr>\n",
       "      <th id=\"T_3422e_level0_row0\" class=\"row_heading level0 row0\" >2015</th>\n",
       "      <td id=\"T_3422e_row0_col0\" class=\"data row0 col0\" >nan</td>\n",
       "      <td id=\"T_3422e_row0_col1\" class=\"data row0 col1\" >nan</td>\n",
       "      <td id=\"T_3422e_row0_col2\" class=\"data row0 col2\" >nan</td>\n",
       "      <td id=\"T_3422e_row0_col3\" class=\"data row0 col3\" >nan</td>\n",
       "      <td id=\"T_3422e_row0_col4\" class=\"data row0 col4\" >nan</td>\n",
       "      <td id=\"T_3422e_row0_col5\" class=\"data row0 col5\" >4188.000000</td>\n",
       "      <td id=\"T_3422e_row0_col6\" class=\"data row0 col6\" >8322.000000</td>\n",
       "      <td id=\"T_3422e_row0_col7\" class=\"data row0 col7\" >8340.000000</td>\n",
       "      <td id=\"T_3422e_row0_col8\" class=\"data row0 col8\" >8411.000000</td>\n",
       "      <td id=\"T_3422e_row0_col9\" class=\"data row0 col9\" >8305.000000</td>\n",
       "      <td id=\"T_3422e_row0_col10\" class=\"data row0 col10\" >7818.000000</td>\n",
       "      <td id=\"T_3422e_row0_col11\" class=\"data row0 col11\" >7987.000000</td>\n",
       "    </tr>\n",
       "    <tr>\n",
       "      <th id=\"T_3422e_level0_row1\" class=\"row_heading level0 row1\" >2016</th>\n",
       "      <td id=\"T_3422e_row1_col0\" class=\"data row1 col0\" >7835.000000</td>\n",
       "      <td id=\"T_3422e_row1_col1\" class=\"data row1 col1\" >7307.000000</td>\n",
       "      <td id=\"T_3422e_row1_col2\" class=\"data row1 col2\" >8199.000000</td>\n",
       "      <td id=\"T_3422e_row1_col3\" class=\"data row1 col3\" >8101.000000</td>\n",
       "      <td id=\"T_3422e_row1_col4\" class=\"data row1 col4\" >8578.000000</td>\n",
       "      <td id=\"T_3422e_row1_col5\" class=\"data row1 col5\" >8558.000000</td>\n",
       "      <td id=\"T_3422e_row1_col6\" class=\"data row1 col6\" >8618.000000</td>\n",
       "      <td id=\"T_3422e_row1_col7\" class=\"data row1 col7\" >8938.000000</td>\n",
       "      <td id=\"T_3422e_row1_col8\" class=\"data row1 col8\" >8521.000000</td>\n",
       "      <td id=\"T_3422e_row1_col9\" class=\"data row1 col9\" >8582.000000</td>\n",
       "      <td id=\"T_3422e_row1_col10\" class=\"data row1 col10\" >7922.000000</td>\n",
       "      <td id=\"T_3422e_row1_col11\" class=\"data row1 col11\" >7951.000000</td>\n",
       "    </tr>\n",
       "    <tr>\n",
       "      <th id=\"T_3422e_level0_row2\" class=\"row_heading level0 row2\" >2017</th>\n",
       "      <td id=\"T_3422e_row2_col0\" class=\"data row2 col0\" >7991.000000</td>\n",
       "      <td id=\"T_3422e_row2_col1\" class=\"data row2 col1\" >7408.000000</td>\n",
       "      <td id=\"T_3422e_row2_col2\" class=\"data row2 col2\" >8179.000000</td>\n",
       "      <td id=\"T_3422e_row2_col3\" class=\"data row2 col3\" >8069.000000</td>\n",
       "      <td id=\"T_3422e_row2_col4\" class=\"data row2 col4\" >8715.000000</td>\n",
       "      <td id=\"T_3422e_row2_col5\" class=\"data row2 col5\" >8985.000000</td>\n",
       "      <td id=\"T_3422e_row2_col6\" class=\"data row2 col6\" >9075.000000</td>\n",
       "      <td id=\"T_3422e_row2_col7\" class=\"data row2 col7\" >9206.000000</td>\n",
       "      <td id=\"T_3422e_row2_col8\" class=\"data row2 col8\" >8940.000000</td>\n",
       "      <td id=\"T_3422e_row2_col9\" class=\"data row2 col9\" >8846.000000</td>\n",
       "      <td id=\"T_3422e_row2_col10\" class=\"data row2 col10\" >7935.000000</td>\n",
       "      <td id=\"T_3422e_row2_col11\" class=\"data row2 col11\" >7535.000000</td>\n",
       "    </tr>\n",
       "    <tr>\n",
       "      <th id=\"T_3422e_level0_row3\" class=\"row_heading level0 row3\" >2018</th>\n",
       "      <td id=\"T_3422e_row3_col0\" class=\"data row3 col0\" >7782.000000</td>\n",
       "      <td id=\"T_3422e_row3_col1\" class=\"data row3 col1\" >6937.000000</td>\n",
       "      <td id=\"T_3422e_row3_col2\" class=\"data row3 col2\" >7768.000000</td>\n",
       "      <td id=\"T_3422e_row3_col3\" class=\"data row3 col3\" >7916.000000</td>\n",
       "      <td id=\"T_3422e_row3_col4\" class=\"data row3 col4\" >8906.000000</td>\n",
       "      <td id=\"T_3422e_row3_col5\" class=\"data row3 col5\" >8834.000000</td>\n",
       "      <td id=\"T_3422e_row3_col6\" class=\"data row3 col6\" >8538.000000</td>\n",
       "      <td id=\"T_3422e_row3_col7\" class=\"data row3 col7\" >8337.000000</td>\n",
       "      <td id=\"T_3422e_row3_col8\" class=\"data row3 col8\" >667.000000</td>\n",
       "      <td id=\"T_3422e_row3_col9\" class=\"data row3 col9\" >nan</td>\n",
       "      <td id=\"T_3422e_row3_col10\" class=\"data row3 col10\" >nan</td>\n",
       "      <td id=\"T_3422e_row3_col11\" class=\"data row3 col11\" >nan</td>\n",
       "    </tr>\n",
       "  </tbody>\n",
       "</table>\n"
      ],
      "text/plain": [
       "<pandas.io.formats.style.Styler at 0x200cdbd19d0>"
      ]
     },
     "execution_count": 144,
     "metadata": {},
     "output_type": "execute_result"
    }
   ],
   "source": [
    "styled_df ## above crime"
   ]
  },
  {
   "cell_type": "code",
   "execution_count": 153,
   "id": "1408842b",
   "metadata": {},
   "outputs": [],
   "source": [
    "def highlight_below_avg(val):\n",
    "    avg = avg_crime ## average value\n",
    "    return'background-color: blue' if val < avg else ''"
   ]
  },
  {
   "cell_type": "code",
   "execution_count": 146,
   "id": "4618330b",
   "metadata": {},
   "outputs": [],
   "source": [
    "styled_df_below = year_month.style.applymap(highlight_below_avg)"
   ]
  },
  {
   "cell_type": "code",
   "execution_count": 148,
   "id": "fdd59187",
   "metadata": {},
   "outputs": [
    {
     "data": {
      "text/html": [
       "<style type=\"text/css\">\n",
       "#T_22893_row0_col5, #T_22893_row0_col10, #T_22893_row1_col0, #T_22893_row1_col1, #T_22893_row1_col10, #T_22893_row1_col11, #T_22893_row2_col1, #T_22893_row2_col10, #T_22893_row2_col11, #T_22893_row3_col0, #T_22893_row3_col1, #T_22893_row3_col2, #T_22893_row3_col3, #T_22893_row3_col8 {\n",
       "  background-color: blue;\n",
       "}\n",
       "</style>\n",
       "<table id=\"T_22893\">\n",
       "  <thead>\n",
       "    <tr>\n",
       "      <th class=\"index_name level0\" >MONTH</th>\n",
       "      <th id=\"T_22893_level0_col0\" class=\"col_heading level0 col0\" >1</th>\n",
       "      <th id=\"T_22893_level0_col1\" class=\"col_heading level0 col1\" >2</th>\n",
       "      <th id=\"T_22893_level0_col2\" class=\"col_heading level0 col2\" >3</th>\n",
       "      <th id=\"T_22893_level0_col3\" class=\"col_heading level0 col3\" >4</th>\n",
       "      <th id=\"T_22893_level0_col4\" class=\"col_heading level0 col4\" >5</th>\n",
       "      <th id=\"T_22893_level0_col5\" class=\"col_heading level0 col5\" >6</th>\n",
       "      <th id=\"T_22893_level0_col6\" class=\"col_heading level0 col6\" >7</th>\n",
       "      <th id=\"T_22893_level0_col7\" class=\"col_heading level0 col7\" >8</th>\n",
       "      <th id=\"T_22893_level0_col8\" class=\"col_heading level0 col8\" >9</th>\n",
       "      <th id=\"T_22893_level0_col9\" class=\"col_heading level0 col9\" >10</th>\n",
       "      <th id=\"T_22893_level0_col10\" class=\"col_heading level0 col10\" >11</th>\n",
       "      <th id=\"T_22893_level0_col11\" class=\"col_heading level0 col11\" >12</th>\n",
       "    </tr>\n",
       "    <tr>\n",
       "      <th class=\"index_name level0\" >YEAR</th>\n",
       "      <th class=\"blank col0\" >&nbsp;</th>\n",
       "      <th class=\"blank col1\" >&nbsp;</th>\n",
       "      <th class=\"blank col2\" >&nbsp;</th>\n",
       "      <th class=\"blank col3\" >&nbsp;</th>\n",
       "      <th class=\"blank col4\" >&nbsp;</th>\n",
       "      <th class=\"blank col5\" >&nbsp;</th>\n",
       "      <th class=\"blank col6\" >&nbsp;</th>\n",
       "      <th class=\"blank col7\" >&nbsp;</th>\n",
       "      <th class=\"blank col8\" >&nbsp;</th>\n",
       "      <th class=\"blank col9\" >&nbsp;</th>\n",
       "      <th class=\"blank col10\" >&nbsp;</th>\n",
       "      <th class=\"blank col11\" >&nbsp;</th>\n",
       "    </tr>\n",
       "  </thead>\n",
       "  <tbody>\n",
       "    <tr>\n",
       "      <th id=\"T_22893_level0_row0\" class=\"row_heading level0 row0\" >2015</th>\n",
       "      <td id=\"T_22893_row0_col0\" class=\"data row0 col0\" >nan</td>\n",
       "      <td id=\"T_22893_row0_col1\" class=\"data row0 col1\" >nan</td>\n",
       "      <td id=\"T_22893_row0_col2\" class=\"data row0 col2\" >nan</td>\n",
       "      <td id=\"T_22893_row0_col3\" class=\"data row0 col3\" >nan</td>\n",
       "      <td id=\"T_22893_row0_col4\" class=\"data row0 col4\" >nan</td>\n",
       "      <td id=\"T_22893_row0_col5\" class=\"data row0 col5\" >4188.000000</td>\n",
       "      <td id=\"T_22893_row0_col6\" class=\"data row0 col6\" >8322.000000</td>\n",
       "      <td id=\"T_22893_row0_col7\" class=\"data row0 col7\" >8340.000000</td>\n",
       "      <td id=\"T_22893_row0_col8\" class=\"data row0 col8\" >8411.000000</td>\n",
       "      <td id=\"T_22893_row0_col9\" class=\"data row0 col9\" >8305.000000</td>\n",
       "      <td id=\"T_22893_row0_col10\" class=\"data row0 col10\" >7818.000000</td>\n",
       "      <td id=\"T_22893_row0_col11\" class=\"data row0 col11\" >7987.000000</td>\n",
       "    </tr>\n",
       "    <tr>\n",
       "      <th id=\"T_22893_level0_row1\" class=\"row_heading level0 row1\" >2016</th>\n",
       "      <td id=\"T_22893_row1_col0\" class=\"data row1 col0\" >7835.000000</td>\n",
       "      <td id=\"T_22893_row1_col1\" class=\"data row1 col1\" >7307.000000</td>\n",
       "      <td id=\"T_22893_row1_col2\" class=\"data row1 col2\" >8199.000000</td>\n",
       "      <td id=\"T_22893_row1_col3\" class=\"data row1 col3\" >8101.000000</td>\n",
       "      <td id=\"T_22893_row1_col4\" class=\"data row1 col4\" >8578.000000</td>\n",
       "      <td id=\"T_22893_row1_col5\" class=\"data row1 col5\" >8558.000000</td>\n",
       "      <td id=\"T_22893_row1_col6\" class=\"data row1 col6\" >8618.000000</td>\n",
       "      <td id=\"T_22893_row1_col7\" class=\"data row1 col7\" >8938.000000</td>\n",
       "      <td id=\"T_22893_row1_col8\" class=\"data row1 col8\" >8521.000000</td>\n",
       "      <td id=\"T_22893_row1_col9\" class=\"data row1 col9\" >8582.000000</td>\n",
       "      <td id=\"T_22893_row1_col10\" class=\"data row1 col10\" >7922.000000</td>\n",
       "      <td id=\"T_22893_row1_col11\" class=\"data row1 col11\" >7951.000000</td>\n",
       "    </tr>\n",
       "    <tr>\n",
       "      <th id=\"T_22893_level0_row2\" class=\"row_heading level0 row2\" >2017</th>\n",
       "      <td id=\"T_22893_row2_col0\" class=\"data row2 col0\" >7991.000000</td>\n",
       "      <td id=\"T_22893_row2_col1\" class=\"data row2 col1\" >7408.000000</td>\n",
       "      <td id=\"T_22893_row2_col2\" class=\"data row2 col2\" >8179.000000</td>\n",
       "      <td id=\"T_22893_row2_col3\" class=\"data row2 col3\" >8069.000000</td>\n",
       "      <td id=\"T_22893_row2_col4\" class=\"data row2 col4\" >8715.000000</td>\n",
       "      <td id=\"T_22893_row2_col5\" class=\"data row2 col5\" >8985.000000</td>\n",
       "      <td id=\"T_22893_row2_col6\" class=\"data row2 col6\" >9075.000000</td>\n",
       "      <td id=\"T_22893_row2_col7\" class=\"data row2 col7\" >9206.000000</td>\n",
       "      <td id=\"T_22893_row2_col8\" class=\"data row2 col8\" >8940.000000</td>\n",
       "      <td id=\"T_22893_row2_col9\" class=\"data row2 col9\" >8846.000000</td>\n",
       "      <td id=\"T_22893_row2_col10\" class=\"data row2 col10\" >7935.000000</td>\n",
       "      <td id=\"T_22893_row2_col11\" class=\"data row2 col11\" >7535.000000</td>\n",
       "    </tr>\n",
       "    <tr>\n",
       "      <th id=\"T_22893_level0_row3\" class=\"row_heading level0 row3\" >2018</th>\n",
       "      <td id=\"T_22893_row3_col0\" class=\"data row3 col0\" >7782.000000</td>\n",
       "      <td id=\"T_22893_row3_col1\" class=\"data row3 col1\" >6937.000000</td>\n",
       "      <td id=\"T_22893_row3_col2\" class=\"data row3 col2\" >7768.000000</td>\n",
       "      <td id=\"T_22893_row3_col3\" class=\"data row3 col3\" >7916.000000</td>\n",
       "      <td id=\"T_22893_row3_col4\" class=\"data row3 col4\" >8906.000000</td>\n",
       "      <td id=\"T_22893_row3_col5\" class=\"data row3 col5\" >8834.000000</td>\n",
       "      <td id=\"T_22893_row3_col6\" class=\"data row3 col6\" >8538.000000</td>\n",
       "      <td id=\"T_22893_row3_col7\" class=\"data row3 col7\" >8337.000000</td>\n",
       "      <td id=\"T_22893_row3_col8\" class=\"data row3 col8\" >667.000000</td>\n",
       "      <td id=\"T_22893_row3_col9\" class=\"data row3 col9\" >nan</td>\n",
       "      <td id=\"T_22893_row3_col10\" class=\"data row3 col10\" >nan</td>\n",
       "      <td id=\"T_22893_row3_col11\" class=\"data row3 col11\" >nan</td>\n",
       "    </tr>\n",
       "  </tbody>\n",
       "</table>\n"
      ],
      "text/plain": [
       "<pandas.io.formats.style.Styler at 0x200cdb00550>"
      ]
     },
     "execution_count": 148,
     "metadata": {},
     "output_type": "execute_result"
    }
   ],
   "source": [
    "styled_df_below ## Below average"
   ]
  },
  {
   "cell_type": "markdown",
   "id": "8b95c31f",
   "metadata": {},
   "source": [
    "## Grouping and Aggregation\n",
    "We perform group-by operations to analyze crime patterns over time, by category, or location."
   ]
  },
  {
   "cell_type": "code",
   "execution_count": 149,
   "id": "6d0b00a7",
   "metadata": {},
   "outputs": [
    {
     "data": {
      "text/plain": [
       "9206"
      ]
     },
     "execution_count": 149,
     "metadata": {},
     "output_type": "execute_result"
    }
   ],
   "source": [
    "max_val = crime.groupby(['YEAR','MONTH']).count()['INCIDENT_NUMBER'].max()"
   ]
  },
  {
   "cell_type": "code",
   "execution_count": 160,
   "id": "5da66ad9",
   "metadata": {},
   "outputs": [],
   "source": [
    "def highlight_max(row):\n",
    "    max_val = row.max()\n",
    "    return['background-color: green' if v==max_val else '' for v in row]"
   ]
  },
  {
   "cell_type": "code",
   "execution_count": 161,
   "id": "898afaac",
   "metadata": {},
   "outputs": [],
   "source": [
    "styled_df_max = year_month.style.apply(highlight_max, axis=1)"
   ]
  },
  {
   "cell_type": "code",
   "execution_count": 162,
   "id": "e768bdcd",
   "metadata": {},
   "outputs": [
    {
     "data": {
      "text/html": [
       "<style type=\"text/css\">\n",
       "#T_f358c_row0_col8, #T_f358c_row1_col7, #T_f358c_row2_col7, #T_f358c_row3_col4 {\n",
       "  background-color: green;\n",
       "}\n",
       "</style>\n",
       "<table id=\"T_f358c\">\n",
       "  <thead>\n",
       "    <tr>\n",
       "      <th class=\"index_name level0\" >MONTH</th>\n",
       "      <th id=\"T_f358c_level0_col0\" class=\"col_heading level0 col0\" >1</th>\n",
       "      <th id=\"T_f358c_level0_col1\" class=\"col_heading level0 col1\" >2</th>\n",
       "      <th id=\"T_f358c_level0_col2\" class=\"col_heading level0 col2\" >3</th>\n",
       "      <th id=\"T_f358c_level0_col3\" class=\"col_heading level0 col3\" >4</th>\n",
       "      <th id=\"T_f358c_level0_col4\" class=\"col_heading level0 col4\" >5</th>\n",
       "      <th id=\"T_f358c_level0_col5\" class=\"col_heading level0 col5\" >6</th>\n",
       "      <th id=\"T_f358c_level0_col6\" class=\"col_heading level0 col6\" >7</th>\n",
       "      <th id=\"T_f358c_level0_col7\" class=\"col_heading level0 col7\" >8</th>\n",
       "      <th id=\"T_f358c_level0_col8\" class=\"col_heading level0 col8\" >9</th>\n",
       "      <th id=\"T_f358c_level0_col9\" class=\"col_heading level0 col9\" >10</th>\n",
       "      <th id=\"T_f358c_level0_col10\" class=\"col_heading level0 col10\" >11</th>\n",
       "      <th id=\"T_f358c_level0_col11\" class=\"col_heading level0 col11\" >12</th>\n",
       "    </tr>\n",
       "    <tr>\n",
       "      <th class=\"index_name level0\" >YEAR</th>\n",
       "      <th class=\"blank col0\" >&nbsp;</th>\n",
       "      <th class=\"blank col1\" >&nbsp;</th>\n",
       "      <th class=\"blank col2\" >&nbsp;</th>\n",
       "      <th class=\"blank col3\" >&nbsp;</th>\n",
       "      <th class=\"blank col4\" >&nbsp;</th>\n",
       "      <th class=\"blank col5\" >&nbsp;</th>\n",
       "      <th class=\"blank col6\" >&nbsp;</th>\n",
       "      <th class=\"blank col7\" >&nbsp;</th>\n",
       "      <th class=\"blank col8\" >&nbsp;</th>\n",
       "      <th class=\"blank col9\" >&nbsp;</th>\n",
       "      <th class=\"blank col10\" >&nbsp;</th>\n",
       "      <th class=\"blank col11\" >&nbsp;</th>\n",
       "    </tr>\n",
       "  </thead>\n",
       "  <tbody>\n",
       "    <tr>\n",
       "      <th id=\"T_f358c_level0_row0\" class=\"row_heading level0 row0\" >2015</th>\n",
       "      <td id=\"T_f358c_row0_col0\" class=\"data row0 col0\" >nan</td>\n",
       "      <td id=\"T_f358c_row0_col1\" class=\"data row0 col1\" >nan</td>\n",
       "      <td id=\"T_f358c_row0_col2\" class=\"data row0 col2\" >nan</td>\n",
       "      <td id=\"T_f358c_row0_col3\" class=\"data row0 col3\" >nan</td>\n",
       "      <td id=\"T_f358c_row0_col4\" class=\"data row0 col4\" >nan</td>\n",
       "      <td id=\"T_f358c_row0_col5\" class=\"data row0 col5\" >4188.000000</td>\n",
       "      <td id=\"T_f358c_row0_col6\" class=\"data row0 col6\" >8322.000000</td>\n",
       "      <td id=\"T_f358c_row0_col7\" class=\"data row0 col7\" >8340.000000</td>\n",
       "      <td id=\"T_f358c_row0_col8\" class=\"data row0 col8\" >8411.000000</td>\n",
       "      <td id=\"T_f358c_row0_col9\" class=\"data row0 col9\" >8305.000000</td>\n",
       "      <td id=\"T_f358c_row0_col10\" class=\"data row0 col10\" >7818.000000</td>\n",
       "      <td id=\"T_f358c_row0_col11\" class=\"data row0 col11\" >7987.000000</td>\n",
       "    </tr>\n",
       "    <tr>\n",
       "      <th id=\"T_f358c_level0_row1\" class=\"row_heading level0 row1\" >2016</th>\n",
       "      <td id=\"T_f358c_row1_col0\" class=\"data row1 col0\" >7835.000000</td>\n",
       "      <td id=\"T_f358c_row1_col1\" class=\"data row1 col1\" >7307.000000</td>\n",
       "      <td id=\"T_f358c_row1_col2\" class=\"data row1 col2\" >8199.000000</td>\n",
       "      <td id=\"T_f358c_row1_col3\" class=\"data row1 col3\" >8101.000000</td>\n",
       "      <td id=\"T_f358c_row1_col4\" class=\"data row1 col4\" >8578.000000</td>\n",
       "      <td id=\"T_f358c_row1_col5\" class=\"data row1 col5\" >8558.000000</td>\n",
       "      <td id=\"T_f358c_row1_col6\" class=\"data row1 col6\" >8618.000000</td>\n",
       "      <td id=\"T_f358c_row1_col7\" class=\"data row1 col7\" >8938.000000</td>\n",
       "      <td id=\"T_f358c_row1_col8\" class=\"data row1 col8\" >8521.000000</td>\n",
       "      <td id=\"T_f358c_row1_col9\" class=\"data row1 col9\" >8582.000000</td>\n",
       "      <td id=\"T_f358c_row1_col10\" class=\"data row1 col10\" >7922.000000</td>\n",
       "      <td id=\"T_f358c_row1_col11\" class=\"data row1 col11\" >7951.000000</td>\n",
       "    </tr>\n",
       "    <tr>\n",
       "      <th id=\"T_f358c_level0_row2\" class=\"row_heading level0 row2\" >2017</th>\n",
       "      <td id=\"T_f358c_row2_col0\" class=\"data row2 col0\" >7991.000000</td>\n",
       "      <td id=\"T_f358c_row2_col1\" class=\"data row2 col1\" >7408.000000</td>\n",
       "      <td id=\"T_f358c_row2_col2\" class=\"data row2 col2\" >8179.000000</td>\n",
       "      <td id=\"T_f358c_row2_col3\" class=\"data row2 col3\" >8069.000000</td>\n",
       "      <td id=\"T_f358c_row2_col4\" class=\"data row2 col4\" >8715.000000</td>\n",
       "      <td id=\"T_f358c_row2_col5\" class=\"data row2 col5\" >8985.000000</td>\n",
       "      <td id=\"T_f358c_row2_col6\" class=\"data row2 col6\" >9075.000000</td>\n",
       "      <td id=\"T_f358c_row2_col7\" class=\"data row2 col7\" >9206.000000</td>\n",
       "      <td id=\"T_f358c_row2_col8\" class=\"data row2 col8\" >8940.000000</td>\n",
       "      <td id=\"T_f358c_row2_col9\" class=\"data row2 col9\" >8846.000000</td>\n",
       "      <td id=\"T_f358c_row2_col10\" class=\"data row2 col10\" >7935.000000</td>\n",
       "      <td id=\"T_f358c_row2_col11\" class=\"data row2 col11\" >7535.000000</td>\n",
       "    </tr>\n",
       "    <tr>\n",
       "      <th id=\"T_f358c_level0_row3\" class=\"row_heading level0 row3\" >2018</th>\n",
       "      <td id=\"T_f358c_row3_col0\" class=\"data row3 col0\" >7782.000000</td>\n",
       "      <td id=\"T_f358c_row3_col1\" class=\"data row3 col1\" >6937.000000</td>\n",
       "      <td id=\"T_f358c_row3_col2\" class=\"data row3 col2\" >7768.000000</td>\n",
       "      <td id=\"T_f358c_row3_col3\" class=\"data row3 col3\" >7916.000000</td>\n",
       "      <td id=\"T_f358c_row3_col4\" class=\"data row3 col4\" >8906.000000</td>\n",
       "      <td id=\"T_f358c_row3_col5\" class=\"data row3 col5\" >8834.000000</td>\n",
       "      <td id=\"T_f358c_row3_col6\" class=\"data row3 col6\" >8538.000000</td>\n",
       "      <td id=\"T_f358c_row3_col7\" class=\"data row3 col7\" >8337.000000</td>\n",
       "      <td id=\"T_f358c_row3_col8\" class=\"data row3 col8\" >667.000000</td>\n",
       "      <td id=\"T_f358c_row3_col9\" class=\"data row3 col9\" >nan</td>\n",
       "      <td id=\"T_f358c_row3_col10\" class=\"data row3 col10\" >nan</td>\n",
       "      <td id=\"T_f358c_row3_col11\" class=\"data row3 col11\" >nan</td>\n",
       "    </tr>\n",
       "  </tbody>\n",
       "</table>\n"
      ],
      "text/plain": [
       "<pandas.io.formats.style.Styler at 0x200d1eb7f10>"
      ]
     },
     "execution_count": 162,
     "metadata": {},
     "output_type": "execute_result"
    }
   ],
   "source": [
    "styled_df_max"
   ]
  },
  {
   "cell_type": "code",
   "execution_count": 164,
   "id": "205ec874",
   "metadata": {},
   "outputs": [
    {
     "data": {
      "text/html": [
       "<div>\n",
       "<style scoped>\n",
       "    .dataframe tbody tr th:only-of-type {\n",
       "        vertical-align: middle;\n",
       "    }\n",
       "\n",
       "    .dataframe tbody tr th {\n",
       "        vertical-align: top;\n",
       "    }\n",
       "\n",
       "    .dataframe thead th {\n",
       "        text-align: right;\n",
       "    }\n",
       "</style>\n",
       "<table border=\"1\" class=\"dataframe\">\n",
       "  <thead>\n",
       "    <tr style=\"text-align: right;\">\n",
       "      <th></th>\n",
       "      <th>INCIDENT_NUMBER</th>\n",
       "      <th>OFFENSE_CODE</th>\n",
       "      <th>OFFENSE_CODE_GROUP</th>\n",
       "      <th>OFFENSE_DESCRIPTION</th>\n",
       "      <th>DISTRICT</th>\n",
       "      <th>REPORTING_AREA</th>\n",
       "      <th>SHOOTING</th>\n",
       "      <th>OCCURRED_ON_DATE</th>\n",
       "      <th>YEAR</th>\n",
       "      <th>MONTH</th>\n",
       "      <th>DAY_OF_WEEK</th>\n",
       "      <th>HOUR</th>\n",
       "      <th>UCR_PART</th>\n",
       "      <th>STREET</th>\n",
       "      <th>Lat</th>\n",
       "      <th>Long</th>\n",
       "      <th>Location</th>\n",
       "    </tr>\n",
       "  </thead>\n",
       "  <tbody>\n",
       "    <tr>\n",
       "      <th>0</th>\n",
       "      <td>I182070945</td>\n",
       "      <td>619</td>\n",
       "      <td>Larceny</td>\n",
       "      <td>LARCENY ALL OTHERS</td>\n",
       "      <td>D14</td>\n",
       "      <td>808</td>\n",
       "      <td>NaN</td>\n",
       "      <td>2018-09-02 13:00:00</td>\n",
       "      <td>2018</td>\n",
       "      <td>9</td>\n",
       "      <td>Sunday</td>\n",
       "      <td>13</td>\n",
       "      <td>Part One</td>\n",
       "      <td>LINCOLN ST</td>\n",
       "      <td>42.357791</td>\n",
       "      <td>-71.139371</td>\n",
       "      <td>(42.35779134, -71.13937053)</td>\n",
       "    </tr>\n",
       "    <tr>\n",
       "      <th>1</th>\n",
       "      <td>I182070943</td>\n",
       "      <td>1402</td>\n",
       "      <td>Vandalism</td>\n",
       "      <td>VANDALISM</td>\n",
       "      <td>C11</td>\n",
       "      <td>347</td>\n",
       "      <td>NaN</td>\n",
       "      <td>2018-08-21 00:00:00</td>\n",
       "      <td>2018</td>\n",
       "      <td>8</td>\n",
       "      <td>Tuesday</td>\n",
       "      <td>0</td>\n",
       "      <td>Part Two</td>\n",
       "      <td>HECLA ST</td>\n",
       "      <td>42.306821</td>\n",
       "      <td>-71.060300</td>\n",
       "      <td>(42.30682138, -71.06030035)</td>\n",
       "    </tr>\n",
       "  </tbody>\n",
       "</table>\n",
       "</div>"
      ],
      "text/plain": [
       "  INCIDENT_NUMBER  OFFENSE_CODE OFFENSE_CODE_GROUP OFFENSE_DESCRIPTION  \\\n",
       "0      I182070945           619            Larceny  LARCENY ALL OTHERS   \n",
       "1      I182070943          1402          Vandalism           VANDALISM   \n",
       "\n",
       "  DISTRICT REPORTING_AREA SHOOTING    OCCURRED_ON_DATE  YEAR  MONTH  \\\n",
       "0      D14            808      NaN 2018-09-02 13:00:00  2018      9   \n",
       "1      C11            347      NaN 2018-08-21 00:00:00  2018      8   \n",
       "\n",
       "  DAY_OF_WEEK  HOUR  UCR_PART      STREET        Lat       Long  \\\n",
       "0      Sunday    13  Part One  LINCOLN ST  42.357791 -71.139371   \n",
       "1     Tuesday     0  Part Two    HECLA ST  42.306821 -71.060300   \n",
       "\n",
       "                      Location  \n",
       "0  (42.35779134, -71.13937053)  \n",
       "1  (42.30682138, -71.06030035)  "
      ]
     },
     "execution_count": 164,
     "metadata": {},
     "output_type": "execute_result"
    }
   ],
   "source": [
    "crime.head(2)"
   ]
  },
  {
   "cell_type": "markdown",
   "id": "fec4b968",
   "metadata": {},
   "source": [
    "## Grouping and Aggregation\n",
    "We perform group-by operations to analyze crime patterns over time, by category, or location."
   ]
  },
  {
   "cell_type": "code",
   "execution_count": 168,
   "id": "fd82b41a",
   "metadata": {},
   "outputs": [
    {
     "data": {
      "text/plain": [
       "DISTRICT\n",
       "B2     49940\n",
       "C11    42528\n",
       "D4     41914\n",
       "A1     35710\n",
       "B3     35441\n",
       "C6     23457\n",
       "D14    20127\n",
       "E13    17534\n",
       "E18    17347\n",
       "A7     13544\n",
       "E5     13238\n",
       "A15     6505\n",
       "Name: YEAR, dtype: int64"
      ]
     },
     "execution_count": 168,
     "metadata": {},
     "output_type": "execute_result"
    }
   ],
   "source": [
    "## In Which distrcits were the most crimes committed\n",
    "\n",
    "crime.groupby('DISTRICT')['YEAR'].count().sort_values(ascending = False)"
   ]
  },
  {
   "cell_type": "markdown",
   "id": "335f3524",
   "metadata": {},
   "source": [
    "## Grouping and Aggregation\n",
    "We perform group-by operations to analyze crime patterns over time, by category, or location."
   ]
  },
  {
   "cell_type": "code",
   "execution_count": 174,
   "id": "7cc1aaeb",
   "metadata": {},
   "outputs": [
    {
     "data": {
      "text/plain": [
       "YEAR\n",
       "2017    100308\n",
       "2016     98593\n",
       "2018     65141\n",
       "2015     53243\n",
       "Name: DISTRICT, dtype: int64"
      ]
     },
     "execution_count": 174,
     "metadata": {},
     "output_type": "execute_result"
    }
   ],
   "source": [
    "## In Which districts were the most crimes committed on a yearly basis\n",
    "\n",
    "crime.groupby('YEAR')['DISTRICT'].count().sort_values(ascending = False)"
   ]
  },
  {
   "cell_type": "markdown",
   "id": "7bf86f8f",
   "metadata": {},
   "source": [
    "## Grouping and Aggregation\n",
    "We perform group-by operations to analyze crime patterns over time, by category, or location."
   ]
  },
  {
   "cell_type": "code",
   "execution_count": 177,
   "id": "d7aeace2",
   "metadata": {},
   "outputs": [
    {
     "data": {
      "text/plain": [
       "6610.104166666667"
      ]
     },
     "execution_count": 177,
     "metadata": {},
     "output_type": "execute_result"
    }
   ],
   "source": [
    "inc_mean = crime.groupby(['DISTRICT','YEAR']).count()['INCIDENT_NUMBER'].mean()\n",
    "inc_mean"
   ]
  },
  {
   "cell_type": "markdown",
   "id": "a147bc71",
   "metadata": {},
   "source": [
    "## Grouping and Aggregation\n",
    "We perform group-by operations to analyze crime patterns over time, by category, or location."
   ]
  },
  {
   "cell_type": "code",
   "execution_count": 179,
   "id": "9f84b671",
   "metadata": {},
   "outputs": [],
   "source": [
    "inc_mean_graph = crime.groupby(['DISTRICT','YEAR']).count()['INCIDENT_NUMBER'].unstack()"
   ]
  },
  {
   "cell_type": "code",
   "execution_count": 181,
   "id": "072e9f8c",
   "metadata": {},
   "outputs": [
    {
     "data": {
      "text/plain": [
       "<AxesSubplot:xlabel='YEAR', ylabel='DISTRICT'>"
      ]
     },
     "execution_count": 181,
     "metadata": {},
     "output_type": "execute_result"
    },
    {
     "data": {
      "image/png": "[encoded data removed]",
      "text/plain": [
       "<Figure size 640x480 with 2 Axes>"
      ]
     },
     "metadata": {},
     "output_type": "display_data"
    }
   ],
   "source": [
    "sns.heatmap(inc_mean_graph,cmap='viridis',linewidths=1,linecolor='white')"
   ]
  },
  {
   "cell_type": "code",
   "execution_count": null,
   "id": "ed39e6e4",
   "metadata": {},
   "outputs": [],
   "source": []
  }
 ],
 "metadata": {
  "kernelspec": {
   "display_name": "Python 3 (ipykernel)",
   "language": "python",
   "name": "python3"
  },
  "language_info": {
   "codemirror_mode": {
    "name": "ipython",
    "version": 3
   },
   "file_extension": ".py",
   "mimetype": "text/x-python",
   "name": "python",
   "nbconvert_exporter": "python",
   "pygments_lexer": "ipython3",
   "version": "3.9.13"
  }
 },
 "nbformat": 4,
 "nbformat_minor": 5
}
